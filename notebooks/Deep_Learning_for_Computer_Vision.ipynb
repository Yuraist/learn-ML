{
  "nbformat": 4,
  "nbformat_minor": 0,
  "metadata": {
    "colab": {
      "name": "Deep Learning for Computer Vision.ipynb",
      "version": "0.3.2",
      "views": {},
      "default_view": {},
      "provenance": []
    },
    "kernelspec": {
      "display_name": "Python 3",
      "language": "python",
      "name": "python3"
    },
    "accelerator": "GPU"
  },
  "cells": [
    {
      "metadata": {
        "id": "JBwgKzA6xmzX",
        "colab_type": "text"
      },
      "cell_type": "markdown",
      "source": [
        "# Deep Learning for Computer Vision\n",
        "\n",
        "This chapter introduces convolutionval neural networks."
      ]
    },
    {
      "metadata": {
        "id": "L2hUAXmjxmza",
        "colab_type": "code",
        "colab": {
          "autoexec": {
            "startup": false,
            "wait_interval": 0
          }
        }
      },
      "cell_type": "code",
      "source": [
        "from keras import layers \n",
        "from keras import models\n",
        "\n",
        "model = models.Sequential()\n",
        "model.add(layers.Conv2D(32, (3, 3), activation='relu', input_shape=(28, 28, 1)))\n",
        "model.add(layers.MaxPooling2D((2, 2)))\n",
        "model.add(layers.Conv2D(64, (3, 3), activation='relu'))\n",
        "model.add(layers.MaxPooling2D((2, 2)))\n",
        "model.add(layers.Conv2D(64, (3, 3), activation='relu'))"
      ],
      "execution_count": 0,
      "outputs": []
    },
    {
      "metadata": {
        "id": "NYXh4jCWxmzg",
        "colab_type": "text"
      },
      "cell_type": "markdown",
      "source": [
        "A convnet is a stack of `Conv2D` and `MaxPooling2D` layers. A convnet takes as input tensors of shape `(image_hight, image_width, image_channels)`. "
      ]
    },
    {
      "metadata": {
        "id": "_Rhqc8wDxmzg",
        "colab_type": "code",
        "colab": {
          "autoexec": {
            "startup": false,
            "wait_interval": 0
          },
          "base_uri": "https://localhost:8080/",
          "height": 306
        },
        "outputId": "4e398ab8-1296-4433-8937-c5c9daa1e500",
        "executionInfo": {
          "status": "ok",
          "timestamp": 1526269215427,
          "user_tz": -180,
          "elapsed": 649,
          "user": {
            "displayName": "Юрий Истомин",
            "photoUrl": "//lh3.googleusercontent.com/-Nypt7K0lj_Q/AAAAAAAAAAI/AAAAAAAAIiA/wQd3WoLxAjA/s50-c-k-no/photo.jpg",
            "userId": "111110306008352060198"
          }
        }
      },
      "cell_type": "code",
      "source": [
        "model.summary()"
      ],
      "execution_count": 2,
      "outputs": [
        {
          "output_type": "stream",
          "text": [
            "_________________________________________________________________\n",
            "Layer (type)                 Output Shape              Param #   \n",
            "=================================================================\n",
            "conv2d_1 (Conv2D)            (None, 26, 26, 32)        320       \n",
            "_________________________________________________________________\n",
            "max_pooling2d_1 (MaxPooling2 (None, 13, 13, 32)        0         \n",
            "_________________________________________________________________\n",
            "conv2d_2 (Conv2D)            (None, 11, 11, 64)        18496     \n",
            "_________________________________________________________________\n",
            "max_pooling2d_2 (MaxPooling2 (None, 5, 5, 64)          0         \n",
            "_________________________________________________________________\n",
            "conv2d_3 (Conv2D)            (None, 3, 3, 64)          36928     \n",
            "=================================================================\n",
            "Total params: 55,744\n",
            "Trainable params: 55,744\n",
            "Non-trainable params: 0\n",
            "_________________________________________________________________\n"
          ],
          "name": "stdout"
        }
      ]
    },
    {
      "metadata": {
        "id": "pse6ouQqxmzk",
        "colab_type": "text"
      },
      "cell_type": "markdown",
      "source": [
        "The output of every `Conv2D` and `MaxPooling2D` layer is a 3D tensor of shape `(height, width, channels)`. The width and height dimensions tend to shrink as you go deeper in the network. The number of channels is controlled by the first argument passed to the `Conv2D` layers. \n",
        "\n",
        "The next step is to feed the last output tensor of shape `(3, 3, 64)` into a densely connected classifier network. First we have to flatten the 3D output to 1D, and then add a few Dense layers on top. "
      ]
    },
    {
      "metadata": {
        "id": "5K2ELi2Gxmzl",
        "colab_type": "code",
        "colab": {
          "autoexec": {
            "startup": false,
            "wait_interval": 0
          }
        }
      },
      "cell_type": "code",
      "source": [
        "model.add(layers.Flatten())\n",
        "model.add(layers.Dense(64, activation='relu'))\n",
        "model.add(layers.Dense(10, activation='softmax'))"
      ],
      "execution_count": 0,
      "outputs": []
    },
    {
      "metadata": {
        "id": "9XCJQkQXxmzo",
        "colab_type": "code",
        "colab": {
          "autoexec": {
            "startup": false,
            "wait_interval": 0
          },
          "base_uri": "https://localhost:8080/",
          "height": 408
        },
        "outputId": "a3453581-0cbc-4b6f-e2fc-9ce578e32440",
        "executionInfo": {
          "status": "ok",
          "timestamp": 1526269218097,
          "user_tz": -180,
          "elapsed": 605,
          "user": {
            "displayName": "Юрий Истомин",
            "photoUrl": "//lh3.googleusercontent.com/-Nypt7K0lj_Q/AAAAAAAAAAI/AAAAAAAAIiA/wQd3WoLxAjA/s50-c-k-no/photo.jpg",
            "userId": "111110306008352060198"
          }
        }
      },
      "cell_type": "code",
      "source": [
        "model.summary()"
      ],
      "execution_count": 4,
      "outputs": [
        {
          "output_type": "stream",
          "text": [
            "_________________________________________________________________\n",
            "Layer (type)                 Output Shape              Param #   \n",
            "=================================================================\n",
            "conv2d_1 (Conv2D)            (None, 26, 26, 32)        320       \n",
            "_________________________________________________________________\n",
            "max_pooling2d_1 (MaxPooling2 (None, 13, 13, 32)        0         \n",
            "_________________________________________________________________\n",
            "conv2d_2 (Conv2D)            (None, 11, 11, 64)        18496     \n",
            "_________________________________________________________________\n",
            "max_pooling2d_2 (MaxPooling2 (None, 5, 5, 64)          0         \n",
            "_________________________________________________________________\n",
            "conv2d_3 (Conv2D)            (None, 3, 3, 64)          36928     \n",
            "_________________________________________________________________\n",
            "flatten_1 (Flatten)          (None, 576)               0         \n",
            "_________________________________________________________________\n",
            "dense_1 (Dense)              (None, 64)                36928     \n",
            "_________________________________________________________________\n",
            "dense_2 (Dense)              (None, 10)                650       \n",
            "=================================================================\n",
            "Total params: 93,322\n",
            "Trainable params: 93,322\n",
            "Non-trainable params: 0\n",
            "_________________________________________________________________\n"
          ],
          "name": "stdout"
        }
      ]
    },
    {
      "metadata": {
        "id": "UdddBlmHxmzr",
        "colab_type": "code",
        "colab": {
          "autoexec": {
            "startup": false,
            "wait_interval": 0
          },
          "base_uri": "https://localhost:8080/",
          "height": 71
        },
        "outputId": "8e846b59-aa7b-48e6-b40e-c63fbc77aeac",
        "executionInfo": {
          "status": "ok",
          "timestamp": 1526269222655,
          "user_tz": -180,
          "elapsed": 4187,
          "user": {
            "displayName": "Юрий Истомин",
            "photoUrl": "//lh3.googleusercontent.com/-Nypt7K0lj_Q/AAAAAAAAAAI/AAAAAAAAIiA/wQd3WoLxAjA/s50-c-k-no/photo.jpg",
            "userId": "111110306008352060198"
          }
        }
      },
      "cell_type": "code",
      "source": [
        "from keras.datasets import mnist\n",
        "from keras.utils import to_categorical\n",
        "\n",
        "(train_images, train_labels), (test_images, test_labels) = mnist.load_data()\n",
        "\n",
        "train_images = train_images.reshape((60000, 28, 28, 1))\n",
        "train_images = train_images.astype('float32') / 255\n",
        "\n",
        "test_images = test_images.reshape((10000, 28, 28, 1))\n",
        "test_images = test_images.astype('float32') / 255\n",
        "\n",
        "\n",
        "train_labels = to_categorical(train_labels)\n",
        "test_labels = to_categorical(test_labels)"
      ],
      "execution_count": 5,
      "outputs": [
        {
          "output_type": "stream",
          "text": [
            "Downloading data from https://s3.amazonaws.com/img-datasets/mnist.npz\n",
            "11493376/11490434 [==============================] - 3s 0us/step\n"
          ],
          "name": "stdout"
        }
      ]
    },
    {
      "metadata": {
        "id": "Udcjyiyjxmzt",
        "colab_type": "code",
        "colab": {
          "autoexec": {
            "startup": false,
            "wait_interval": 0
          }
        }
      },
      "cell_type": "code",
      "source": [
        "model.compile(optimizer='rmsprop',\n",
        "            loss='categorical_crossentropy',\n",
        "            metrics=['accuracy'])"
      ],
      "execution_count": 0,
      "outputs": []
    },
    {
      "metadata": {
        "id": "x4tqKkPUxmzv",
        "colab_type": "code",
        "colab": {
          "autoexec": {
            "startup": false,
            "wait_interval": 0
          },
          "base_uri": "https://localhost:8080/",
          "height": 224
        },
        "outputId": "b332f020-51f4-4c7c-c54c-327ae60b4de6",
        "executionInfo": {
          "status": "ok",
          "timestamp": 1526269281440,
          "user_tz": -180,
          "elapsed": 57847,
          "user": {
            "displayName": "Юрий Истомин",
            "photoUrl": "//lh3.googleusercontent.com/-Nypt7K0lj_Q/AAAAAAAAAAI/AAAAAAAAIiA/wQd3WoLxAjA/s50-c-k-no/photo.jpg",
            "userId": "111110306008352060198"
          }
        }
      },
      "cell_type": "code",
      "source": [
        "model.fit(train_images, train_labels, epochs=5, batch_size=64)"
      ],
      "execution_count": 7,
      "outputs": [
        {
          "output_type": "stream",
          "text": [
            "Epoch 1/5\n",
            "60000/60000 [==============================] - 13s 216us/step - loss: 0.1683 - acc: 0.9475\n",
            "Epoch 2/5\n",
            "60000/60000 [==============================] - 11s 185us/step - loss: 0.0467 - acc: 0.9857\n",
            "Epoch 3/5\n",
            "45248/60000 [=====================>........] - ETA: 2s - loss: 0.0323 - acc: 0.9901"
          ],
          "name": "stdout"
        },
        {
          "output_type": "stream",
          "text": [
            "60000/60000 [==============================] - 11s 183us/step - loss: 0.0327 - acc: 0.9897\n",
            "Epoch 4/5\n",
            "60000/60000 [==============================] - 11s 185us/step - loss: 0.0244 - acc: 0.9926\n",
            "Epoch 5/5\n",
            "60000/60000 [==============================] - 11s 182us/step - loss: 0.0196 - acc: 0.9940\n"
          ],
          "name": "stdout"
        },
        {
          "output_type": "execute_result",
          "data": {
            "text/plain": [
              "<keras.callbacks.History at 0x7fe07e599630>"
            ]
          },
          "metadata": {
            "tags": []
          },
          "execution_count": 7
        }
      ]
    },
    {
      "metadata": {
        "id": "g6DFykb0xmzz",
        "colab_type": "code",
        "colab": {
          "autoexec": {
            "startup": false,
            "wait_interval": 0
          },
          "base_uri": "https://localhost:8080/",
          "height": 51
        },
        "outputId": "24f9eac9-4e0f-4684-d956-9de00afd5d52",
        "executionInfo": {
          "status": "ok",
          "timestamp": 1526269283402,
          "user_tz": -180,
          "elapsed": 1882,
          "user": {
            "displayName": "Юрий Истомин",
            "photoUrl": "//lh3.googleusercontent.com/-Nypt7K0lj_Q/AAAAAAAAAAI/AAAAAAAAIiA/wQd3WoLxAjA/s50-c-k-no/photo.jpg",
            "userId": "111110306008352060198"
          }
        }
      },
      "cell_type": "code",
      "source": [
        "test_loss, test_acc = model.evaluate(test_images, test_labels)\n",
        "test_acc"
      ],
      "execution_count": 8,
      "outputs": [
        {
          "output_type": "stream",
          "text": [
            "10000/10000 [==============================] - 1s 124us/step\n"
          ],
          "name": "stdout"
        },
        {
          "output_type": "execute_result",
          "data": {
            "text/plain": [
              "0.9919"
            ]
          },
          "metadata": {
            "tags": []
          },
          "execution_count": 8
        }
      ]
    },
    {
      "metadata": {
        "id": "yaZCLZVgp7K3",
        "colab_type": "text"
      },
      "cell_type": "markdown",
      "source": [
        "### The convolution operation\n",
        "\n",
        "Convolution operate over 3D tensors, called _feature maps_, with two spatial axes (height and width) as well as a depth axis (also called the _channels_ axis). For an RGB image, the dimension of the depth axis is 3, because the image has 3 color channels. For a black-and-white picture the depth is 1 (levels of gray).\n",
        "\n",
        "The convolution operation extracts patches from its input feature map and applies the same trainsformation to all of these patches, producing an output feature map. This output feature map is still a 3D tensor: it has a width and a height. Its depth can be arbitrary, because the output depth is a parameter of the layer, and the different channels in that depth axis no linger stand for specific colors as in RGB input; rather, they stand for filters. Filters encode specific aspects of the input data: at a high level, a single filter could encode the concept \"presence of a face in the input\". \n",
        "\n",
        "Convolution are defined by two key parameters:\n",
        "* Size of the patches extracted from the inputs – These are typically 3x3 or 5x5\n",
        "* Depth of the output feature map – The number of filters computed by the convolution.\n",
        "\n",
        "In Keras `Conv2D` layers, these parmameters are the first arguments passed to the layer: `Conv2D(output_depth, (window_height, window_width))`.\n",
        "\n",
        "Padding: \n",
        "* \"valid\" – no padding.\n",
        "* \"same\" – pad in such a way as to have an ouput with the same width and height as the input.\n",
        "\n",
        "### The max-pooling opertaion \n",
        "\n",
        "The role of max pooling is to aggresively downsample feature maps, much like strided convolution. \n",
        "\n",
        "Max pooling consists of extracting windows from the input feature maps and outputting the max value of each channel. Max pooling is usually done with 2x2 windows and stride 2, in order to downsample the feature maps by a factor of 2. "
      ]
    },
    {
      "metadata": {
        "id": "fsGgAfPVxmz1",
        "colab_type": "code",
        "colab": {
          "autoexec": {
            "startup": false,
            "wait_interval": 0
          }
        }
      },
      "cell_type": "code",
      "source": [
        "model_no_max_pool = models.Sequential()\n",
        "model_no_max_pool.add(layers.Conv2D(32, (3, 3), activation='relu',\n",
        "                                   input_shape=(28, 28, 1)))\n",
        "model_no_max_pool.add(layers.Conv2D(64, (3, 3), activation='relu'))\n",
        "model_no_max_pool.add(layers.Conv2D(64, (3, 3), activation='relu'))"
      ],
      "execution_count": 0,
      "outputs": []
    },
    {
      "metadata": {
        "id": "oer1rVT70WMr",
        "colab_type": "code",
        "colab": {
          "autoexec": {
            "startup": false,
            "wait_interval": 0
          },
          "base_uri": "https://localhost:8080/",
          "height": 238
        },
        "outputId": "3b37ca82-ff76-47a2-bac2-fd83cc752363",
        "executionInfo": {
          "status": "ok",
          "timestamp": 1526269286311,
          "user_tz": -180,
          "elapsed": 1882,
          "user": {
            "displayName": "Юрий Истомин",
            "photoUrl": "//lh3.googleusercontent.com/-Nypt7K0lj_Q/AAAAAAAAAAI/AAAAAAAAIiA/wQd3WoLxAjA/s50-c-k-no/photo.jpg",
            "userId": "111110306008352060198"
          }
        }
      },
      "cell_type": "code",
      "source": [
        "model_no_max_pool.summary()"
      ],
      "execution_count": 10,
      "outputs": [
        {
          "output_type": "stream",
          "text": [
            "_________________________________________________________________\n",
            "Layer (type)                 Output Shape              Param #   \n",
            "=================================================================\n",
            "conv2d_4 (Conv2D)            (None, 26, 26, 32)        320       \n",
            "_________________________________________________________________\n",
            "conv2d_5 (Conv2D)            (None, 24, 24, 64)        18496     \n",
            "_________________________________________________________________\n",
            "conv2d_6 (Conv2D)            (None, 22, 22, 64)        36928     \n",
            "=================================================================\n",
            "Total params: 55,744\n",
            "Trainable params: 55,744\n",
            "Non-trainable params: 0\n",
            "_________________________________________________________________\n"
          ],
          "name": "stdout"
        }
      ]
    },
    {
      "metadata": {
        "id": "ZpA88F3BDErN",
        "colab_type": "code",
        "colab": {
          "autoexec": {
            "startup": false,
            "wait_interval": 0
          },
          "base_uri": "https://localhost:8080/",
          "height": 156
        },
        "outputId": "9f4278cc-ac7b-46cf-ca76-e6987a2555ec",
        "executionInfo": {
          "status": "ok",
          "timestamp": 1526292963799,
          "user_tz": -180,
          "elapsed": 72406,
          "user": {
            "displayName": "Юрий Истомин",
            "photoUrl": "//lh3.googleusercontent.com/-Nypt7K0lj_Q/AAAAAAAAAAI/AAAAAAAAIiA/wQd3WoLxAjA/s50-c-k-no/photo.jpg",
            "userId": "111110306008352060198"
          }
        }
      },
      "cell_type": "code",
      "source": [
        "! git clone https://gitlab.com/Yuraist/ml-datasets.git"
      ],
      "execution_count": 4,
      "outputs": [
        {
          "output_type": "stream",
          "text": [
            "Cloning into 'ml-datasets'...\n",
            "remote: Counting objects: 37396, done.\u001b[K\n",
            "remote: Compressing objects: 100% (37394/37394), done.\u001b[K\n",
            "remote: Total 37396 (delta 2), reused 37396 (delta 2)\u001b[K\n",
            "Receiving objects: 100% (37396/37396), 810.11 MiB | 35.20 MiB/s, done.\n",
            "Resolving deltas: 100% (2/2), done.\n",
            "Checking out files: 100% (37500/37500), done.\n"
          ],
          "name": "stdout"
        }
      ]
    },
    {
      "metadata": {
        "id": "J355zpHQDaV6",
        "colab_type": "code",
        "colab": {
          "autoexec": {
            "startup": false,
            "wait_interval": 0
          },
          "base_uri": "https://localhost:8080/",
          "height": 252
        },
        "outputId": "8aee757b-0c08-4a81-f280-cec8d091eb1f",
        "executionInfo": {
          "status": "error",
          "timestamp": 1526292967774,
          "user_tz": -180,
          "elapsed": 844,
          "user": {
            "displayName": "Юрий Истомин",
            "photoUrl": "//lh3.googleusercontent.com/-Nypt7K0lj_Q/AAAAAAAAAAI/AAAAAAAAIiA/wQd3WoLxAjA/s50-c-k-no/photo.jpg",
            "userId": "111110306008352060198"
          }
        }
      },
      "cell_type": "code",
      "source": [
        "import os, shutil\n",
        "\n",
        "original_dataset_dir = '/content/ml-datasets/train'\n",
        "\n",
        "base_dir = '/content/cats_and_dogs'\n",
        "if not os.path.exists(base_dir):\n",
        "  os.mkdir(base_dir)\n",
        "\n",
        "train_dir = os.path.join(base_dir, 'train')\n",
        "os.mkdir(train_dir)\n",
        "\n",
        "validation_dir = os.path.join(base_dir, 'validation')\n",
        "os.mkdir(validation_dir)\n",
        "\n",
        "test_dir = os.path.join(base_dir, 'test')\n",
        "os.mkdir(test_dir)\n",
        "\n",
        "train_cats_dir = os.path.join(train_dir, 'cats')\n",
        "os.mkdir(train_cats_dir)\n",
        "\n",
        "train_dogs_dir = os.path.join(train_dir, 'dogs')\n",
        "os.mkdir(train_dogs_dir)\n",
        "\n",
        "validation_cats_dir = os.path.join(validation_dir, 'cats')\n",
        "os.mkdir(validation_cats_dir)\n",
        "\n",
        "validation_dogs_dir = os.path.join(validation_dir, 'dogs')\n",
        "os.mkdir(validation_dogs_dir)\n",
        "\n",
        "test_cats_dir = os.path.join(test_dir, 'cats')\n",
        "os.mkdir(test_cats_dir)\n",
        "\n",
        "test_dogs_dir = os.path.join(test_dir, 'dogs')\n",
        "os.mkdir(test_dogs_dir)\n",
        "\n",
        "# Cats images\n",
        "\n",
        "fnames = ['cat.{}.jpg'.format(i) for i in range(1000)]\n",
        "for fname in fnames:\n",
        "  src = os.path.join(original_dataset_dir, fname)\n",
        "  dst = os.path.join(train_cats_dir, fname)\n",
        "  shutil.copyfile(src, dst)\n",
        "  \n",
        "fnames = ['cat.{}.jpg'.format(i) for i in range(1000, 1500)]\n",
        "for fname in fnames:\n",
        "  src = os.path.join(original_dataset_dir, fname)\n",
        "  dst = os.path.join(validation_cats_dir, fname)\n",
        "  shutil.copyfile(src, dst)\n",
        "  \n",
        "fnames = ['cat.{}.jpg'.format(i) for i in range(1500, 2000)]\n",
        "for fname in fnames:\n",
        "  src = os.path.join(original_dataset_dir, fname)\n",
        "  dst = os.path.join(test_cats_dir, fname)\n",
        "  shutil.copyfile(src, dst)\n",
        "  \n",
        "# Dogs images\n",
        "  \n",
        "fnames = ['dog.{}.jpg'.format(i) for i in range(1000)]\n",
        "for fname in fnames:\n",
        "  src = os.path.join(original_dataset_dir, fname)\n",
        "  dst = os.path.join(train_dogs_dir, fname)\n",
        "  shutil.copyfile(src, dst)\n",
        "  \n",
        "fnames = ['dog.{}.jpg'.format(i) for i in range(1000, 1500)]\n",
        "for fname in fnames:\n",
        "  src = os.path.join(original_dataset_dir, fname)\n",
        "  dst = os.path.join(validation_dogs_dir, fname)\n",
        "  shutil.copyfile(src, dst)\n",
        "  \n",
        "fnames = ['dog.{}.jpg'.format(i) for i in range(1500, 2000)]\n",
        "for fname in fnames:\n",
        "  src = os.path.join(original_dataset_dir, fname)\n",
        "  dst = os.path.join(test_dogs_dir, fname)\n",
        "  shutil.copyfile(src, dst)"
      ],
      "execution_count": 6,
      "outputs": [
        {
          "output_type": "error",
          "ename": "FileExistsError",
          "evalue": "ignored",
          "traceback": [
            "\u001b[0;31m---------------------------------------------------------------------------\u001b[0m",
            "\u001b[0;31mFileExistsError\u001b[0m                           Traceback (most recent call last)",
            "\u001b[0;32m<ipython-input-6-31be3627e9c7>\u001b[0m in \u001b[0;36m<module>\u001b[0;34m()\u001b[0m\n\u001b[1;32m      8\u001b[0m \u001b[0;34m\u001b[0m\u001b[0m\n\u001b[1;32m      9\u001b[0m \u001b[0mtrain_dir\u001b[0m \u001b[0;34m=\u001b[0m \u001b[0mos\u001b[0m\u001b[0;34m.\u001b[0m\u001b[0mpath\u001b[0m\u001b[0;34m.\u001b[0m\u001b[0mjoin\u001b[0m\u001b[0;34m(\u001b[0m\u001b[0mbase_dir\u001b[0m\u001b[0;34m,\u001b[0m \u001b[0;34m'train'\u001b[0m\u001b[0;34m)\u001b[0m\u001b[0;34m\u001b[0m\u001b[0m\n\u001b[0;32m---> 10\u001b[0;31m \u001b[0mos\u001b[0m\u001b[0;34m.\u001b[0m\u001b[0mmkdir\u001b[0m\u001b[0;34m(\u001b[0m\u001b[0mtrain_dir\u001b[0m\u001b[0;34m)\u001b[0m\u001b[0;34m\u001b[0m\u001b[0m\n\u001b[0m\u001b[1;32m     11\u001b[0m \u001b[0;34m\u001b[0m\u001b[0m\n\u001b[1;32m     12\u001b[0m \u001b[0mvalidation_dir\u001b[0m \u001b[0;34m=\u001b[0m \u001b[0mos\u001b[0m\u001b[0;34m.\u001b[0m\u001b[0mpath\u001b[0m\u001b[0;34m.\u001b[0m\u001b[0mjoin\u001b[0m\u001b[0;34m(\u001b[0m\u001b[0mbase_dir\u001b[0m\u001b[0;34m,\u001b[0m \u001b[0;34m'validation'\u001b[0m\u001b[0;34m)\u001b[0m\u001b[0;34m\u001b[0m\u001b[0m\n",
            "\u001b[0;31mFileExistsError\u001b[0m: [Errno 17] File exists: '/content/cats_and_dogs/train'"
          ]
        }
      ]
    },
    {
      "metadata": {
        "id": "RJb6xYQrI89v",
        "colab_type": "code",
        "colab": {
          "autoexec": {
            "startup": false,
            "wait_interval": 0
          },
          "base_uri": "https://localhost:8080/",
          "height": 119
        },
        "outputId": "141a226b-4003-470a-bb3a-edbf16bb4937",
        "executionInfo": {
          "status": "ok",
          "timestamp": 1526277833956,
          "user_tz": -180,
          "elapsed": 656,
          "user": {
            "displayName": "Юрий Истомин",
            "photoUrl": "//lh3.googleusercontent.com/-Nypt7K0lj_Q/AAAAAAAAAAI/AAAAAAAAIiA/wQd3WoLxAjA/s50-c-k-no/photo.jpg",
            "userId": "111110306008352060198"
          }
        }
      },
      "cell_type": "code",
      "source": [
        "print('total training cat images:', len(os.listdir(train_cats_dir)))\n",
        "print('total training dog images:', len(os.listdir(train_dogs_dir)))\n",
        "print('total validation cat images:', len(os.listdir(validation_cats_dir)))\n",
        "print('total validation dog images:', len(os.listdir(validation_dogs_dir)))\n",
        "print('total testing cat images:', len(os.listdir(test_cats_dir)))\n",
        "print('total testing dog images:', len(os.listdir(test_dogs_dir)))"
      ],
      "execution_count": 41,
      "outputs": [
        {
          "output_type": "stream",
          "text": [
            "total training cat images: 1000\n",
            "total training dog images: 1000\n",
            "total validation cat images: 500\n",
            "total validation dog images: 500\n",
            "total testing cat images: 500\n",
            "total testing dog images: 500\n"
          ],
          "name": "stdout"
        }
      ]
    },
    {
      "metadata": {
        "id": "SZOmb1mIKOTt",
        "colab_type": "code",
        "colab": {
          "autoexec": {
            "startup": false,
            "wait_interval": 0
          }
        }
      },
      "cell_type": "code",
      "source": [
        "from keras import layers\n",
        "from keras import models"
      ],
      "execution_count": 0,
      "outputs": []
    },
    {
      "metadata": {
        "id": "IhCQ3S151INZ",
        "colab_type": "code",
        "colab": {
          "autoexec": {
            "startup": false,
            "wait_interval": 0
          }
        }
      },
      "cell_type": "code",
      "source": [
        "from keras.backend import clear_session\n",
        "\n",
        "clear_session()"
      ],
      "execution_count": 0,
      "outputs": []
    },
    {
      "metadata": {
        "id": "E-IF35EexzZx",
        "colab_type": "code",
        "colab": {
          "autoexec": {
            "startup": false,
            "wait_interval": 0
          }
        }
      },
      "cell_type": "code",
      "source": [
        "model = models.Sequential()\n",
        "model.add(layers.Conv2D(32, (3, 3), activation='relu',\n",
        "                       input_shape=(150, 150, 3)))\n",
        "model.add(layers.MaxPooling2D((2, 2)))\n",
        "model.add(layers.Conv2D(64, (3, 3), activation='relu'))\n",
        "model.add(layers.MaxPooling2D((2, 2)))\n",
        "model.add(layers.Conv2D(128, (3, 3), activation='relu'))\n",
        "model.add(layers.MaxPooling2D((2, 2)))\n",
        "model.add(layers.Conv2D(128, (3, 3), activation='relu'))\n",
        "model.add(layers.MaxPooling2D((2, 2)))\n",
        "model.add(layers.Flatten())\n",
        "model.add(layers.Dense(512, activation='relu'))\n",
        "model.add(layers.Dense(1, activation='sigmoid'))"
      ],
      "execution_count": 0,
      "outputs": []
    },
    {
      "metadata": {
        "id": "8OKDjPgp0kkB",
        "colab_type": "code",
        "colab": {
          "autoexec": {
            "startup": false,
            "wait_interval": 0
          },
          "base_uri": "https://localhost:8080/",
          "height": 510
        },
        "outputId": "ea70c12b-48f4-42ac-ec40-93099c9f8ed2",
        "executionInfo": {
          "status": "ok",
          "timestamp": 1526269338271,
          "user_tz": -180,
          "elapsed": 613,
          "user": {
            "displayName": "Юрий Истомин",
            "photoUrl": "//lh3.googleusercontent.com/-Nypt7K0lj_Q/AAAAAAAAAAI/AAAAAAAAIiA/wQd3WoLxAjA/s50-c-k-no/photo.jpg",
            "userId": "111110306008352060198"
          }
        }
      },
      "cell_type": "code",
      "source": [
        "model.summary()"
      ],
      "execution_count": 17,
      "outputs": [
        {
          "output_type": "stream",
          "text": [
            "_________________________________________________________________\n",
            "Layer (type)                 Output Shape              Param #   \n",
            "=================================================================\n",
            "conv2d_1 (Conv2D)            (None, 148, 148, 32)      896       \n",
            "_________________________________________________________________\n",
            "max_pooling2d_1 (MaxPooling2 (None, 74, 74, 32)        0         \n",
            "_________________________________________________________________\n",
            "conv2d_2 (Conv2D)            (None, 72, 72, 64)        18496     \n",
            "_________________________________________________________________\n",
            "max_pooling2d_2 (MaxPooling2 (None, 36, 36, 64)        0         \n",
            "_________________________________________________________________\n",
            "conv2d_3 (Conv2D)            (None, 34, 34, 128)       73856     \n",
            "_________________________________________________________________\n",
            "max_pooling2d_3 (MaxPooling2 (None, 17, 17, 128)       0         \n",
            "_________________________________________________________________\n",
            "conv2d_4 (Conv2D)            (None, 15, 15, 128)       147584    \n",
            "_________________________________________________________________\n",
            "max_pooling2d_4 (MaxPooling2 (None, 7, 7, 128)         0         \n",
            "_________________________________________________________________\n",
            "flatten_1 (Flatten)          (None, 6272)              0         \n",
            "_________________________________________________________________\n",
            "dense_1 (Dense)              (None, 512)               3211776   \n",
            "_________________________________________________________________\n",
            "dense_2 (Dense)              (None, 1)                 513       \n",
            "=================================================================\n",
            "Total params: 3,453,121\n",
            "Trainable params: 3,453,121\n",
            "Non-trainable params: 0\n",
            "_________________________________________________________________\n"
          ],
          "name": "stdout"
        }
      ]
    },
    {
      "metadata": {
        "id": "QKZTOb2V0tTV",
        "colab_type": "code",
        "colab": {
          "autoexec": {
            "startup": false,
            "wait_interval": 0
          }
        }
      },
      "cell_type": "code",
      "source": [
        "from keras import optimizers\n",
        "\n",
        "model.compile(loss='binary_crossentropy',\n",
        "             optimizer=optimizers.RMSprop(lr=1e-4),\n",
        "             metrics=['acc'])"
      ],
      "execution_count": 0,
      "outputs": []
    },
    {
      "metadata": {
        "id": "ODo4E1u02HSm",
        "colab_type": "text"
      },
      "cell_type": "markdown",
      "source": [
        "### Data preprocessing\n",
        "\n",
        "1. Read the picture files\n",
        "2. Decode the JPEG content to RGB grids of pixels\n",
        "3. Convert these into floating-point tensors\n",
        "4. Rescale the pixel values (between 0 and 255) to the [0, 1] interval\n",
        "\n",
        "Keras has a module with image-processing helper tools, located at `keras.preprocessing.image`. "
      ]
    },
    {
      "metadata": {
        "id": "1BwHHuM_2AYb",
        "colab_type": "code",
        "colab": {
          "autoexec": {
            "startup": false,
            "wait_interval": 0
          },
          "base_uri": "https://localhost:8080/",
          "height": 51
        },
        "outputId": "4f722ba9-757e-4e01-c2d8-3841455c7e7b",
        "executionInfo": {
          "status": "ok",
          "timestamp": 1526269339864,
          "user_tz": -180,
          "elapsed": 614,
          "user": {
            "displayName": "Юрий Истомин",
            "photoUrl": "//lh3.googleusercontent.com/-Nypt7K0lj_Q/AAAAAAAAAAI/AAAAAAAAIiA/wQd3WoLxAjA/s50-c-k-no/photo.jpg",
            "userId": "111110306008352060198"
          }
        }
      },
      "cell_type": "code",
      "source": [
        "from keras.preprocessing.image import ImageDataGenerator\n",
        "\n",
        "# Rescale all images by 1/255\n",
        "train_datagen = ImageDataGenerator(rescale=1./255)\n",
        "test_datagen = ImageDataGenerator(rescale=1./255)\n",
        "\n",
        "# Resize all train images to 150 x 150\n",
        "train_generator = train_datagen.flow_from_directory(\n",
        "  train_dir, \n",
        "    target_size=(150, 150),\n",
        "    batch_size=20,\n",
        "    class_mode='binary'\n",
        ")\n",
        "\n",
        "# Resize all validation images to 150 x 150\n",
        "validation_generator = test_datagen.flow_from_directory(\n",
        "  validation_dir,\n",
        "    target_size=(150, 150),\n",
        "    batch_size=20,\n",
        "    class_mode='binary'\n",
        ")"
      ],
      "execution_count": 19,
      "outputs": [
        {
          "output_type": "stream",
          "text": [
            "Found 2000 images belonging to 2 classes.\n",
            "Found 1000 images belonging to 2 classes.\n"
          ],
          "name": "stdout"
        }
      ]
    },
    {
      "metadata": {
        "id": "WqQp0CUk4jEq",
        "colab_type": "text"
      },
      "cell_type": "markdown",
      "source": [
        "When using `fit_generator`, you can pass a `validation_data` argument, much as with the `fit` method. You should also specify the `validation_steps` argument, which tells the process how many batches to draw from the validation generator for evaluation."
      ]
    },
    {
      "metadata": {
        "id": "6Ihjlrfk3QQG",
        "colab_type": "code",
        "colab": {
          "autoexec": {
            "startup": false,
            "wait_interval": 0
          },
          "base_uri": "https://localhost:8080/",
          "height": 1057
        },
        "outputId": "0c740cba-6e15-40b3-a833-dd3579159103",
        "executionInfo": {
          "status": "ok",
          "timestamp": 1526269671528,
          "user_tz": -180,
          "elapsed": 331459,
          "user": {
            "displayName": "Юрий Истомин",
            "photoUrl": "//lh3.googleusercontent.com/-Nypt7K0lj_Q/AAAAAAAAAAI/AAAAAAAAIiA/wQd3WoLxAjA/s50-c-k-no/photo.jpg",
            "userId": "111110306008352060198"
          }
        }
      },
      "cell_type": "code",
      "source": [
        "history = model.fit_generator(\n",
        "    train_generator, \n",
        "    steps_per_epoch=100,\n",
        "    epochs=30, \n",
        "    validation_data=validation_generator,\n",
        "    validation_steps=50\n",
        ")"
      ],
      "execution_count": 20,
      "outputs": [
        {
          "output_type": "stream",
          "text": [
            "Epoch 1/30\n",
            "100/100 [==============================] - 12s 117ms/step - loss: 0.6917 - acc: 0.5265 - val_loss: 0.6708 - val_acc: 0.5810\n",
            "Epoch 2/30\n",
            "100/100 [==============================] - 11s 109ms/step - loss: 0.6508 - acc: 0.6125 - val_loss: 0.6200 - val_acc: 0.6590\n",
            "Epoch 3/30\n",
            "100/100 [==============================] - 11s 109ms/step - loss: 0.5910 - acc: 0.6910 - val_loss: 0.5976 - val_acc: 0.6700\n",
            "Epoch 4/30\n",
            " 72/100 [====================>.........] - ETA: 1s - loss: 0.5642 - acc: 0.7028"
          ],
          "name": "stdout"
        },
        {
          "output_type": "stream",
          "text": [
            "100/100 [==============================] - 11s 110ms/step - loss: 0.5596 - acc: 0.7060 - val_loss: 0.5915 - val_acc: 0.6840\n",
            "Epoch 5/30\n",
            "100/100 [==============================] - 11s 109ms/step - loss: 0.5342 - acc: 0.7285 - val_loss: 0.5829 - val_acc: 0.6740\n",
            "Epoch 6/30\n",
            "100/100 [==============================] - 11s 109ms/step - loss: 0.5096 - acc: 0.7475 - val_loss: 0.6415 - val_acc: 0.6400\n",
            "Epoch 7/30\n",
            " 91/100 [==========================>...] - ETA: 0s - loss: 0.4885 - acc: 0.7665"
          ],
          "name": "stdout"
        },
        {
          "output_type": "stream",
          "text": [
            "100/100 [==============================] - 11s 110ms/step - loss: 0.4842 - acc: 0.7700 - val_loss: 0.6112 - val_acc: 0.6670\n",
            "Epoch 8/30\n",
            "100/100 [==============================] - 11s 110ms/step - loss: 0.4522 - acc: 0.7810 - val_loss: 0.5708 - val_acc: 0.7120\n",
            "Epoch 9/30\n",
            "100/100 [==============================] - 11s 112ms/step - loss: 0.4277 - acc: 0.8020 - val_loss: 0.6017 - val_acc: 0.6930\n",
            "Epoch 10/30\n",
            " 95/100 [===========================>..] - ETA: 0s - loss: 0.4023 - acc: 0.8163"
          ],
          "name": "stdout"
        },
        {
          "output_type": "stream",
          "text": [
            "100/100 [==============================] - 11s 109ms/step - loss: 0.4025 - acc: 0.8170 - val_loss: 0.5901 - val_acc: 0.7070\n",
            "Epoch 11/30\n",
            "100/100 [==============================] - 11s 109ms/step - loss: 0.3799 - acc: 0.8230 - val_loss: 0.5478 - val_acc: 0.7150\n",
            "Epoch 12/30\n",
            "100/100 [==============================] - 11s 109ms/step - loss: 0.3530 - acc: 0.8465 - val_loss: 0.5538 - val_acc: 0.7240\n",
            "Epoch 13/30\n",
            " 90/100 [==========================>...] - ETA: 0s - loss: 0.3350 - acc: 0.8533"
          ],
          "name": "stdout"
        },
        {
          "output_type": "stream",
          "text": [
            "100/100 [==============================] - 11s 109ms/step - loss: 0.3329 - acc: 0.8545 - val_loss: 0.5760 - val_acc: 0.7250\n",
            "Epoch 14/30\n",
            "100/100 [==============================] - 11s 109ms/step - loss: 0.3047 - acc: 0.8755 - val_loss: 0.5989 - val_acc: 0.7200\n",
            "Epoch 15/30\n",
            "100/100 [==============================] - 11s 109ms/step - loss: 0.2845 - acc: 0.8835 - val_loss: 0.5700 - val_acc: 0.7350\n",
            "Epoch 16/30\n",
            " 91/100 [==========================>...] - ETA: 0s - loss: 0.2686 - acc: 0.8857"
          ],
          "name": "stdout"
        },
        {
          "output_type": "stream",
          "text": [
            "100/100 [==============================] - 11s 110ms/step - loss: 0.2674 - acc: 0.8890 - val_loss: 0.5800 - val_acc: 0.7480\n",
            "Epoch 17/30\n",
            "100/100 [==============================] - 11s 108ms/step - loss: 0.2471 - acc: 0.9005 - val_loss: 0.5984 - val_acc: 0.7350\n",
            "Epoch 18/30\n",
            "100/100 [==============================] - 11s 110ms/step - loss: 0.2269 - acc: 0.9105 - val_loss: 0.6481 - val_acc: 0.7260\n",
            "Epoch 19/30\n",
            " 92/100 [==========================>...] - ETA: 0s - loss: 0.2104 - acc: 0.9239"
          ],
          "name": "stdout"
        },
        {
          "output_type": "stream",
          "text": [
            "100/100 [==============================] - 11s 111ms/step - loss: 0.2086 - acc: 0.9245 - val_loss: 0.6330 - val_acc: 0.7330\n",
            "Epoch 20/30\n",
            "100/100 [==============================] - 11s 111ms/step - loss: 0.1831 - acc: 0.9325 - val_loss: 0.6406 - val_acc: 0.7480\n",
            "Epoch 21/30\n",
            "100/100 [==============================] - 11s 112ms/step - loss: 0.1701 - acc: 0.9405 - val_loss: 0.7212 - val_acc: 0.7130\n",
            "Epoch 22/30\n",
            " 93/100 [==========================>...] - ETA: 0s - loss: 0.1527 - acc: 0.9462"
          ],
          "name": "stdout"
        },
        {
          "output_type": "stream",
          "text": [
            "100/100 [==============================] - 11s 111ms/step - loss: 0.1519 - acc: 0.9465 - val_loss: 0.6779 - val_acc: 0.7360\n",
            "Epoch 23/30\n",
            "100/100 [==============================] - 11s 110ms/step - loss: 0.1305 - acc: 0.9580 - val_loss: 0.7884 - val_acc: 0.7180\n",
            "Epoch 24/30\n",
            "100/100 [==============================] - 11s 111ms/step - loss: 0.1124 - acc: 0.9630 - val_loss: 0.7395 - val_acc: 0.7350\n",
            "Epoch 25/30\n",
            " 94/100 [===========================>..] - ETA: 0s - loss: 0.1002 - acc: 0.9654"
          ],
          "name": "stdout"
        },
        {
          "output_type": "stream",
          "text": [
            "100/100 [==============================] - 11s 110ms/step - loss: 0.0985 - acc: 0.9660 - val_loss: 0.7755 - val_acc: 0.7380\n",
            "Epoch 26/30\n",
            "100/100 [==============================] - 11s 109ms/step - loss: 0.0918 - acc: 0.9745 - val_loss: 0.7532 - val_acc: 0.7480\n",
            "Epoch 27/30\n",
            "100/100 [==============================] - 11s 110ms/step - loss: 0.0763 - acc: 0.9790 - val_loss: 0.8021 - val_acc: 0.7320\n",
            "Epoch 28/30\n",
            " 96/100 [===========================>..] - ETA: 0s - loss: 0.0638 - acc: 0.9854"
          ],
          "name": "stdout"
        },
        {
          "output_type": "stream",
          "text": [
            "100/100 [==============================] - 11s 109ms/step - loss: 0.0625 - acc: 0.9860 - val_loss: 0.9106 - val_acc: 0.7350\n",
            "Epoch 29/30\n",
            "100/100 [==============================] - 11s 110ms/step - loss: 0.0544 - acc: 0.9860 - val_loss: 0.8807 - val_acc: 0.7370\n",
            "Epoch 30/30\n",
            "100/100 [==============================] - 11s 113ms/step - loss: 0.0509 - acc: 0.9850 - val_loss: 0.9593 - val_acc: 0.7290\n"
          ],
          "name": "stdout"
        }
      ]
    },
    {
      "metadata": {
        "id": "I03ee7Iv5JPt",
        "colab_type": "code",
        "colab": {
          "autoexec": {
            "startup": false,
            "wait_interval": 0
          }
        }
      },
      "cell_type": "code",
      "source": [
        "model.save('cats_and_dogs_small_1.h5')"
      ],
      "execution_count": 0,
      "outputs": []
    },
    {
      "metadata": {
        "id": "fFnErh8x6XTe",
        "colab_type": "text"
      },
      "cell_type": "markdown",
      "source": [
        "#### Displaying curves of loss and accuracy during training"
      ]
    },
    {
      "metadata": {
        "id": "GhTb8DrK5bdA",
        "colab_type": "code",
        "colab": {
          "autoexec": {
            "startup": false,
            "wait_interval": 0
          },
          "base_uri": "https://localhost:8080/",
          "height": 653
        },
        "outputId": "c0cb61de-4bc4-4293-bc50-a844613db019",
        "executionInfo": {
          "status": "ok",
          "timestamp": 1526269673703,
          "user_tz": -180,
          "elapsed": 1100,
          "user": {
            "displayName": "Юрий Истомин",
            "photoUrl": "//lh3.googleusercontent.com/-Nypt7K0lj_Q/AAAAAAAAAAI/AAAAAAAAIiA/wQd3WoLxAjA/s50-c-k-no/photo.jpg",
            "userId": "111110306008352060198"
          }
        }
      },
      "cell_type": "code",
      "source": [
        "%matplotlib inline\n",
        "import matplotlib.pyplot as plt \n",
        "\n",
        "acc = history.history['acc']\n",
        "val_acc = history.history['val_acc']\n",
        "loss = history.history['loss']\n",
        "val_loss = history.history['val_loss']\n",
        "\n",
        "epochs = range(1, len(acc) + 1)\n",
        "\n",
        "plt.figure(figsize=(9, 5))\n",
        "\n",
        "plt.plot(epochs, acc, 'bo', label='Training acc')\n",
        "plt.plot(epochs, val_acc, 'b', label='Validation acc')\n",
        "plt.title('Training and validation accuracy')\n",
        "plt.legend()\n",
        "\n",
        "plt.figure(figsize=(9, 5))\n",
        "\n",
        "plt.plot(epochs, loss, 'bo', label='Training loss')\n",
        "plt.plot(epochs, val_loss, 'b', label='Validation loss')\n",
        "plt.title('Training and validation loss')\n",
        "plt.legend()\n",
        "\n",
        "plt.show()"
      ],
      "execution_count": 22,
      "outputs": [
        {
          "output_type": "display_data",
          "data": {
            "image/png": "[encoded data removed]",
            "text/plain": [
              "<matplotlib.figure.Figure at 0x7fe093b9ff60>"
            ]
          },
          "metadata": {
            "tags": []
          }
        },
        {
          "output_type": "display_data",
          "data": {
            "image/png": "[encoded data removed]",
            "text/plain": [
              "<matplotlib.figure.Figure at 0x7fe03eadd278>"
            ]
          },
          "metadata": {
            "tags": []
          }
        }
      ]
    },
    {
      "metadata": {
        "id": "XYrfSTN-7vQ5",
        "colab_type": "text"
      },
      "cell_type": "markdown",
      "source": [
        "The validation loss reaches its minimum after only 5 epochs and the stalls.\n",
        "\n",
        "## Fighting overfitting\n",
        "\n",
        "### Using data augmentration\n",
        "\n",
        "Data augmentation takes the approach of generating more training data from existring training samples, by augmenting the samples via a number of random transformations that yield believable-looking images."
      ]
    },
    {
      "metadata": {
        "id": "DuDTzDgQ7SMX",
        "colab_type": "code",
        "colab": {
          "autoexec": {
            "startup": false,
            "wait_interval": 0
          }
        }
      },
      "cell_type": "code",
      "source": [
        "datagen = ImageDataGenerator(\n",
        "    rotation_range=40, \n",
        "    width_shift_range=0.2,\n",
        "    height_shift_range=0.2,\n",
        "    shear_range=0.2,\n",
        "    zoom_range=0.2,\n",
        "    horizontal_flip=True,\n",
        "    fill_mode='nearest'\n",
        ")"
      ],
      "execution_count": 0,
      "outputs": []
    },
    {
      "metadata": {
        "id": "z8UQ2sylvAan",
        "colab_type": "text"
      },
      "cell_type": "markdown",
      "source": [
        "These are just a few of the options available:\n",
        "* `rotation_range` is a value in degrees (1-180), a range within which to randomly rotate pictures\n",
        "* `width_shift` and `height_shift` are ranges within which to randomly translate pictures vertically or horizontally\n",
        "* `shear_range` is for randomly applying shearing transformations\n",
        "* `zoom_range` is for randomly zooming inside pictures\n",
        "* `horizontal_flip` is for randomly flipping half the images horizontaly – relevant whene there are no assumption of horizontal asymmetry\n",
        "* `fill_mode` is the strategy used for filling in newly created pixels, which can appear after a rotation or a width/heihgt shift\n",
        "\n",
        "#### Displaying some randomly augmented training images"
      ]
    },
    {
      "metadata": {
        "id": "H6Ef4HbI8so2",
        "colab_type": "code",
        "colab": {
          "autoexec": {
            "startup": false,
            "wait_interval": 0
          },
          "base_uri": "https://localhost:8080/",
          "height": 1025
        },
        "outputId": "d40decdf-fa7c-418a-fc14-97ba0c654733",
        "executionInfo": {
          "status": "ok",
          "timestamp": 1526269850645,
          "user_tz": -180,
          "elapsed": 2767,
          "user": {
            "displayName": "Юрий Истомин",
            "photoUrl": "//lh3.googleusercontent.com/-Nypt7K0lj_Q/AAAAAAAAAAI/AAAAAAAAIiA/wQd3WoLxAjA/s50-c-k-no/photo.jpg",
            "userId": "111110306008352060198"
          }
        }
      },
      "cell_type": "code",
      "source": [
        "from keras.preprocessing import image\n",
        "\n",
        "fnames = [os.path.join(train_cats_dir, fname) for \n",
        "          fname in os.listdir(train_cats_dir)]\n",
        "\n",
        "img_path = fnames[3]\n",
        "# Read the image and resize it\n",
        "img = image.load_img(img_path, target_size=(150, 150))\n",
        "\n",
        "# Convert it to a Numpy array with shape (150, 150, 3)\n",
        "x = image.img_to_array(img)\n",
        "\n",
        "# Reshape it to (1, 150, 150, 3)\n",
        "x = x.reshape((1,) + x.shape)\n",
        "\n",
        "# Generate batches of randomly transformed images.\n",
        "i = 0\n",
        "for batch in datagen.flow(x, batch_size=1):\n",
        "  plt.figure(i)\n",
        "  imgplot = plt.imshow(image.array_to_img(batch[0]))\n",
        "  i += 1\n",
        "  if i % 4 == 0:\n",
        "    break\n",
        "    \n",
        "plt.show()"
      ],
      "execution_count": 27,
      "outputs": [
        {
          "output_type": "display_data",
          "data": {
            "image/png": "[encoded data removed]",
            "text/plain": [
              "<matplotlib.figure.Figure at 0x7fe03dcc92e8>"
            ]
          },
          "metadata": {
            "tags": []
          }
        },
        {
          "output_type": "display_data",
          "data": {
            "image/png": "[encoded data removed]",
            "text/plain": [
              "<matplotlib.figure.Figure at 0x7fe03dcc9a20>"
            ]
          },
          "metadata": {
            "tags": []
          }
        },
        {
          "output_type": "display_data",
          "data": {
            "image/png": "[encoded data removed]",
            "text/plain": [
              "<matplotlib.figure.Figure at 0x7fe00bcac3c8>"
            ]
          },
          "metadata": {
            "tags": []
          }
        },
        {
          "output_type": "display_data",
          "data": {
            "image/png": "[encoded data removed]",
            "text/plain": [
              "<matplotlib.figure.Figure at 0x7fe03e9b4da0>"
            ]
          },
          "metadata": {
            "tags": []
          }
        }
      ]
    },
    {
      "metadata": {
        "id": "sfJF2mw7x1co",
        "colab_type": "text"
      },
      "cell_type": "markdown",
      "source": [
        "### Using Dropout"
      ]
    },
    {
      "metadata": {
        "id": "0L41a-xFxTWy",
        "colab_type": "code",
        "colab": {
          "autoexec": {
            "startup": false,
            "wait_interval": 0
          }
        }
      },
      "cell_type": "code",
      "source": [
        "model = models.Sequential()\n",
        "model.add(layers.Conv2D(32, (3, 3), activation='relu', \n",
        "                        input_shape=(150, 150, 3)))\n",
        "model.add(layers.MaxPooling2D((2, 2)))\n",
        "model.add(layers.Conv2D(64, (3, 3), activation='relu'))\n",
        "model.add(layers.MaxPooling2D((2, 2)))\n",
        "model.add(layers.Conv2D(128, (3, 3), activation='relu'))\n",
        "model.add(layers.MaxPooling2D((2, 2)))\n",
        "model.add(layers.Conv2D(128, (3, 3), activation='relu'))\n",
        "model.add(layers.MaxPooling2D((2, 2)))\n",
        "model.add(layers.Flatten())\n",
        "model.add(layers.Dropout(0.5))\n",
        "model.add(layers.Dense(512, activation='relu'))\n",
        "model.add(layers.Dense(1, activation='sigmoid'))\n",
        "\n",
        "model.compile(loss='binary_crossentropy',\n",
        "             optimizer=optimizers.RMSprop(lr=1e-4))"
      ],
      "execution_count": 0,
      "outputs": []
    },
    {
      "metadata": {
        "id": "Lt5D0S1mymlH",
        "colab_type": "code",
        "colab": {
          "autoexec": {
            "startup": false,
            "wait_interval": 0
          },
          "base_uri": "https://localhost:8080/",
          "height": 34
        },
        "outputId": "a62ac36b-2085-4f4b-c628-4183914be0e9",
        "executionInfo": {
          "status": "ok",
          "timestamp": 1526270342000,
          "user_tz": -180,
          "elapsed": 2130,
          "user": {
            "displayName": "Юрий Истомин",
            "photoUrl": "//lh3.googleusercontent.com/-Nypt7K0lj_Q/AAAAAAAAAAI/AAAAAAAAIiA/wQd3WoLxAjA/s50-c-k-no/photo.jpg",
            "userId": "111110306008352060198"
          }
        }
      },
      "cell_type": "code",
      "source": [
        "train_datagen = ImageDataGenerator(\n",
        "    rescale=1./255,\n",
        "    rotation_range=40,\n",
        "    width_shift_range=0.2,\n",
        "    height_shift_range=0.2,\n",
        "    shear_range=0.2,\n",
        "    zoom_range=0.2,\n",
        "    horizontal_flip=True,\n",
        ")\n",
        "\n",
        "# The validation data shouldn't be augmented\n",
        "test_datagen = ImageDataGenerator(rescale=1./255)\n",
        "\n",
        "train_generator = train_datagen.flow_from_directory(\n",
        "    train_dir, \n",
        "    target_size=(150, 150), # resize all images to 150 x 150\n",
        "    batch_size=32, \n",
        "    class_mode='binary'\n",
        ")"
      ],
      "execution_count": 30,
      "outputs": [
        {
          "output_type": "stream",
          "text": [
            "Found 2000 images belonging to 2 classes.\n"
          ],
          "name": "stdout"
        }
      ]
    },
    {
      "metadata": {
        "id": "BczRuxdXzSrH",
        "colab_type": "code",
        "colab": {
          "autoexec": {
            "startup": false,
            "wait_interval": 0
          },
          "base_uri": "https://localhost:8080/",
          "height": 3437
        },
        "outputId": "6213d468-b674-4dc1-f764-d7e5c03c57ea",
        "executionInfo": {
          "status": "ok",
          "timestamp": 1526273623587,
          "user_tz": -180,
          "elapsed": 3209554,
          "user": {
            "displayName": "Юрий Истомин",
            "photoUrl": "//lh3.googleusercontent.com/-Nypt7K0lj_Q/AAAAAAAAAAI/AAAAAAAAIiA/wQd3WoLxAjA/s50-c-k-no/photo.jpg",
            "userId": "111110306008352060198"
          }
        }
      },
      "cell_type": "code",
      "source": [
        "history = model.fit_generator(\n",
        "    train_generator, \n",
        "    steps_per_epoch=100,\n",
        "    epochs=100,\n",
        "    validation_data=validation_generator,\n",
        "    validation_steps=50\n",
        ")"
      ],
      "execution_count": 32,
      "outputs": [
        {
          "output_type": "stream",
          "text": [
            "Epoch 1/100\n",
            "100/100 [==============================] - 35s 355ms/step - loss: 0.6936 - val_loss: 0.6811\n",
            "Epoch 2/100\n",
            "100/100 [==============================] - 32s 320ms/step - loss: 0.6774 - val_loss: 0.6702\n",
            "Epoch 3/100\n",
            "100/100 [==============================] - 31s 312ms/step - loss: 0.6690 - val_loss: 0.6472\n",
            "Epoch 4/100\n",
            "100/100 [==============================] - 32s 317ms/step - loss: 0.6491 - val_loss: 0.6272\n",
            "Epoch 5/100\n",
            " 12/100 [==>...........................] - ETA: 6s - loss: 0.6534"
          ],
          "name": "stdout"
        },
        {
          "output_type": "stream",
          "text": [
            "100/100 [==============================] - 31s 312ms/step - loss: 0.6361 - val_loss: 0.6510\n",
            "Epoch 6/100\n",
            "100/100 [==============================] - 34s 343ms/step - loss: 0.6236 - val_loss: 0.6023\n",
            "Epoch 7/100\n",
            "100/100 [==============================] - 32s 316ms/step - loss: 0.6048 - val_loss: 0.5995\n",
            "Epoch 8/100\n",
            "100/100 [==============================] - 32s 319ms/step - loss: 0.6058 - val_loss: 0.5835\n",
            "Epoch 9/100\n",
            " 24/100 [======>.......................] - ETA: 13s - loss: 0.5875"
          ],
          "name": "stdout"
        },
        {
          "output_type": "stream",
          "text": [
            "100/100 [==============================] - 32s 317ms/step - loss: 0.5822 - val_loss: 0.5558\n",
            "Epoch 10/100\n",
            "100/100 [==============================] - 31s 309ms/step - loss: 0.5852 - val_loss: 0.6073\n",
            "Epoch 11/100\n",
            "100/100 [==============================] - 33s 330ms/step - loss: 0.5759 - val_loss: 0.5494\n",
            "Epoch 12/100\n",
            "100/100 [==============================] - 32s 317ms/step - loss: 0.5654 - val_loss: 0.5432\n",
            "Epoch 13/100\n",
            " 25/100 [======>.......................] - ETA: 13s - loss: 0.5723"
          ],
          "name": "stdout"
        },
        {
          "output_type": "stream",
          "text": [
            "100/100 [==============================] - 31s 315ms/step - loss: 0.5684 - val_loss: 0.5927\n",
            "Epoch 14/100\n",
            "100/100 [==============================] - 32s 319ms/step - loss: 0.5620 - val_loss: 0.5503\n",
            "Epoch 15/100\n",
            "100/100 [==============================] - 32s 318ms/step - loss: 0.5586 - val_loss: 0.5538\n",
            "Epoch 16/100\n",
            "100/100 [==============================] - 32s 317ms/step - loss: 0.5550 - val_loss: 0.5477\n",
            "Epoch 17/100\n",
            " 25/100 [======>.......................] - ETA: 13s - loss: 0.5515"
          ],
          "name": "stdout"
        },
        {
          "output_type": "stream",
          "text": [
            "100/100 [==============================] - 30s 297ms/step - loss: 0.5420 - val_loss: 0.5448\n",
            "Epoch 18/100\n",
            "100/100 [==============================] - 35s 346ms/step - loss: 0.5327 - val_loss: 0.5729\n",
            "Epoch 19/100\n",
            "100/100 [==============================] - 32s 321ms/step - loss: 0.5393 - val_loss: 0.5302\n",
            "Epoch 20/100\n",
            "100/100 [==============================] - 32s 319ms/step - loss: 0.5169 - val_loss: 0.5072\n",
            "Epoch 21/100\n",
            " 26/100 [======>.......................] - ETA: 13s - loss: 0.5317"
          ],
          "name": "stdout"
        },
        {
          "output_type": "stream",
          "text": [
            "100/100 [==============================] - 32s 323ms/step - loss: 0.5274 - val_loss: 0.5051\n",
            "Epoch 22/100\n",
            "100/100 [==============================] - 31s 308ms/step - loss: 0.5270 - val_loss: 0.4866\n",
            "Epoch 23/100\n",
            "100/100 [==============================] - 33s 333ms/step - loss: 0.5114 - val_loss: 0.5332\n",
            "Epoch 24/100\n",
            "100/100 [==============================] - 32s 320ms/step - loss: 0.5202 - val_loss: 0.4961\n",
            "Epoch 25/100\n",
            " 26/100 [======>.......................] - ETA: 13s - loss: 0.5116"
          ],
          "name": "stdout"
        },
        {
          "output_type": "stream",
          "text": [
            "100/100 [==============================] - 32s 319ms/step - loss: 0.5188 - val_loss: 0.4845\n",
            "Epoch 26/100\n",
            "100/100 [==============================] - 32s 318ms/step - loss: 0.5088 - val_loss: 0.5246\n",
            "Epoch 27/100\n",
            "100/100 [==============================] - 31s 312ms/step - loss: 0.5034 - val_loss: 0.4774\n",
            "Epoch 28/100\n",
            "100/100 [==============================] - 33s 329ms/step - loss: 0.5036 - val_loss: 0.4896\n",
            "Epoch 29/100\n",
            " 25/100 [======>.......................] - ETA: 13s - loss: 0.5094"
          ],
          "name": "stdout"
        },
        {
          "output_type": "stream",
          "text": [
            "100/100 [==============================] - 32s 316ms/step - loss: 0.4889 - val_loss: 0.5070\n",
            "Epoch 30/100\n",
            "100/100 [==============================] - 32s 318ms/step - loss: 0.5001 - val_loss: 0.5222\n",
            "Epoch 31/100\n",
            "100/100 [==============================] - 32s 319ms/step - loss: 0.4956 - val_loss: 0.4966\n",
            "Epoch 32/100\n",
            "100/100 [==============================] - 32s 316ms/step - loss: 0.4831 - val_loss: 0.5111\n",
            "Epoch 33/100\n",
            " 24/100 [======>.......................] - ETA: 13s - loss: 0.4768"
          ],
          "name": "stdout"
        },
        {
          "output_type": "stream",
          "text": [
            "100/100 [==============================] - 32s 318ms/step - loss: 0.4898 - val_loss: 0.5307\n",
            "Epoch 34/100\n",
            "100/100 [==============================] - 31s 308ms/step - loss: 0.4855 - val_loss: 0.4767\n",
            "Epoch 35/100\n",
            "100/100 [==============================] - 35s 348ms/step - loss: 0.4670 - val_loss: 0.6675\n",
            "Epoch 36/100\n",
            "100/100 [==============================] - 32s 319ms/step - loss: 0.4842 - val_loss: 0.4587\n",
            "Epoch 37/100\n",
            " 22/100 [=====>........................] - ETA: 12s - loss: 0.4390"
          ],
          "name": "stdout"
        },
        {
          "output_type": "stream",
          "text": [
            "100/100 [==============================] - 32s 323ms/step - loss: 0.4794 - val_loss: 0.4508\n",
            "Epoch 38/100\n",
            "100/100 [==============================] - 32s 320ms/step - loss: 0.4713 - val_loss: 0.4575\n",
            "Epoch 39/100\n",
            "100/100 [==============================] - 31s 309ms/step - loss: 0.4696 - val_loss: 0.5256\n",
            "Epoch 40/100\n",
            "100/100 [==============================] - 34s 335ms/step - loss: 0.4584 - val_loss: 0.4634\n",
            "Epoch 41/100\n",
            " 24/100 [======>.......................] - ETA: 13s - loss: 0.4707"
          ],
          "name": "stdout"
        },
        {
          "output_type": "stream",
          "text": [
            "100/100 [==============================] - 32s 323ms/step - loss: 0.4545 - val_loss: 0.4413\n",
            "Epoch 42/100\n",
            "100/100 [==============================] - 32s 317ms/step - loss: 0.4621 - val_loss: 0.4594\n",
            "Epoch 43/100\n",
            "100/100 [==============================] - 32s 316ms/step - loss: 0.4511 - val_loss: 0.4377\n",
            "Epoch 44/100\n",
            "100/100 [==============================] - 32s 319ms/step - loss: 0.4568 - val_loss: 0.4575\n",
            "Epoch 45/100\n",
            " 25/100 [======>.......................] - ETA: 15s - loss: 0.4253"
          ],
          "name": "stdout"
        },
        {
          "output_type": "stream",
          "text": [
            "100/100 [==============================] - 32s 324ms/step - loss: 0.4416 - val_loss: 0.4642\n",
            "Epoch 46/100\n",
            "100/100 [==============================] - 32s 317ms/step - loss: 0.4600 - val_loss: 0.4669\n",
            "Epoch 47/100\n",
            "100/100 [==============================] - 32s 322ms/step - loss: 0.4499 - val_loss: 0.5135\n",
            "Epoch 48/100\n",
            "100/100 [==============================] - 32s 315ms/step - loss: 0.4371 - val_loss: 0.4517\n",
            "Epoch 49/100\n",
            " 24/100 [======>.......................] - ETA: 13s - loss: 0.4584"
          ],
          "name": "stdout"
        },
        {
          "output_type": "stream",
          "text": [
            "100/100 [==============================] - 32s 318ms/step - loss: 0.4305 - val_loss: 0.5205\n",
            "Epoch 50/100\n",
            "100/100 [==============================] - 32s 322ms/step - loss: 0.4445 - val_loss: 0.4494\n",
            "Epoch 51/100\n",
            "100/100 [==============================] - 31s 305ms/step - loss: 0.4363 - val_loss: 0.4467\n",
            "Epoch 52/100\n",
            "100/100 [==============================] - 34s 342ms/step - loss: 0.4183 - val_loss: 0.4477\n",
            "Epoch 53/100\n",
            " 24/100 [======>.......................] - ETA: 13s - loss: 0.4577"
          ],
          "name": "stdout"
        },
        {
          "output_type": "stream",
          "text": [
            "100/100 [==============================] - 32s 322ms/step - loss: 0.4458 - val_loss: 0.4453\n",
            "Epoch 54/100\n",
            "100/100 [==============================] - 32s 318ms/step - loss: 0.4278 - val_loss: 0.4713\n",
            "Epoch 55/100\n",
            "100/100 [==============================] - 32s 321ms/step - loss: 0.4240 - val_loss: 0.5829\n",
            "Epoch 56/100\n",
            "100/100 [==============================] - 31s 310ms/step - loss: 0.4247 - val_loss: 0.4280\n",
            "Epoch 57/100\n",
            " 26/100 [======>.......................] - ETA: 17s - loss: 0.4363"
          ],
          "name": "stdout"
        },
        {
          "output_type": "stream",
          "text": [
            "100/100 [==============================] - 33s 334ms/step - loss: 0.4185 - val_loss: 0.5458\n",
            "Epoch 58/100\n",
            "100/100 [==============================] - 31s 313ms/step - loss: 0.4089 - val_loss: 0.4132\n",
            "Epoch 59/100\n",
            "100/100 [==============================] - 31s 313ms/step - loss: 0.4146 - val_loss: 0.4274\n",
            "Epoch 60/100\n",
            "100/100 [==============================] - 32s 321ms/step - loss: 0.4074 - val_loss: 0.5286\n",
            "Epoch 61/100\n",
            " 26/100 [======>.......................] - ETA: 13s - loss: 0.4114"
          ],
          "name": "stdout"
        },
        {
          "output_type": "stream",
          "text": [
            "100/100 [==============================] - 32s 319ms/step - loss: 0.4109 - val_loss: 0.4269\n",
            "Epoch 62/100\n",
            "100/100 [==============================] - 32s 322ms/step - loss: 0.4174 - val_loss: 0.4458\n",
            "Epoch 63/100\n",
            "100/100 [==============================] - 33s 327ms/step - loss: 0.4095 - val_loss: 0.4927\n",
            "Epoch 64/100\n",
            "100/100 [==============================] - 32s 322ms/step - loss: 0.3947 - val_loss: 0.4639\n",
            "Epoch 65/100\n",
            " 25/100 [======>.......................] - ETA: 13s - loss: 0.3961"
          ],
          "name": "stdout"
        },
        {
          "output_type": "stream",
          "text": [
            "100/100 [==============================] - 32s 322ms/step - loss: 0.4018 - val_loss: 0.4710\n",
            "Epoch 66/100\n",
            "100/100 [==============================] - 32s 319ms/step - loss: 0.3971 - val_loss: 0.4711\n",
            "Epoch 67/100\n",
            "100/100 [==============================] - 32s 324ms/step - loss: 0.3861 - val_loss: 0.4314\n",
            "Epoch 68/100\n",
            "100/100 [==============================] - 31s 309ms/step - loss: 0.4029 - val_loss: 0.4694\n",
            "Epoch 69/100\n",
            " 25/100 [======>.......................] - ETA: 19s - loss: 0.3842"
          ],
          "name": "stdout"
        },
        {
          "output_type": "stream",
          "text": [
            "100/100 [==============================] - 34s 341ms/step - loss: 0.3967 - val_loss: 0.4859\n",
            "Epoch 70/100\n",
            "100/100 [==============================] - 32s 322ms/step - loss: 0.4047 - val_loss: 0.4964\n",
            "Epoch 71/100\n",
            "100/100 [==============================] - 32s 322ms/step - loss: 0.3891 - val_loss: 0.6764\n",
            "Epoch 72/100\n",
            "100/100 [==============================] - 32s 317ms/step - loss: 0.3814 - val_loss: 0.4244\n",
            "Epoch 73/100\n",
            " 25/100 [======>.......................] - ETA: 13s - loss: 0.3938"
          ],
          "name": "stdout"
        },
        {
          "output_type": "stream",
          "text": [
            "100/100 [==============================] - 32s 319ms/step - loss: 0.3795 - val_loss: 0.4873\n",
            "Epoch 74/100\n",
            "100/100 [==============================] - 33s 333ms/step - loss: 0.3881 - val_loss: 0.5298\n",
            "Epoch 75/100\n",
            "100/100 [==============================] - 32s 317ms/step - loss: 0.3762 - val_loss: 0.4490\n",
            "Epoch 76/100\n",
            "100/100 [==============================] - 32s 323ms/step - loss: 0.3710 - val_loss: 0.4246\n",
            "Epoch 77/100\n",
            " 25/100 [======>.......................] - ETA: 13s - loss: 0.4127"
          ],
          "name": "stdout"
        },
        {
          "output_type": "stream",
          "text": [
            "100/100 [==============================] - 32s 322ms/step - loss: 0.3852 - val_loss: 0.4699\n",
            "Epoch 78/100\n",
            "100/100 [==============================] - 31s 314ms/step - loss: 0.3841 - val_loss: 0.4980\n",
            "Epoch 79/100\n",
            "100/100 [==============================] - 32s 316ms/step - loss: 0.3627 - val_loss: 0.4352\n",
            "Epoch 80/100\n",
            "100/100 [==============================] - 30s 301ms/step - loss: 0.3797 - val_loss: 0.5100\n",
            "Epoch 81/100\n",
            " 25/100 [======>.......................] - ETA: 22s - loss: 0.3479"
          ],
          "name": "stdout"
        },
        {
          "output_type": "stream",
          "text": [
            "100/100 [==============================] - 35s 352ms/step - loss: 0.3673 - val_loss: 0.4647\n",
            "Epoch 82/100\n",
            "100/100 [==============================] - 32s 325ms/step - loss: 0.3591 - val_loss: 0.4715\n",
            "Epoch 83/100\n",
            "100/100 [==============================] - 32s 320ms/step - loss: 0.3682 - val_loss: 0.4205\n",
            "Epoch 84/100\n",
            "100/100 [==============================] - 32s 317ms/step - loss: 0.3701 - val_loss: 0.4489\n",
            "Epoch 85/100\n",
            " 25/100 [======>.......................] - ETA: 13s - loss: 0.3410"
          ],
          "name": "stdout"
        },
        {
          "output_type": "stream",
          "text": [
            "100/100 [==============================] - 30s 303ms/step - loss: 0.3553 - val_loss: 0.4068\n",
            "Epoch 86/100\n",
            "100/100 [==============================] - 34s 337ms/step - loss: 0.3536 - val_loss: 0.4027\n",
            "Epoch 87/100\n",
            "100/100 [==============================] - 32s 317ms/step - loss: 0.3722 - val_loss: 0.4137\n",
            "Epoch 88/100\n",
            "100/100 [==============================] - 31s 314ms/step - loss: 0.3452 - val_loss: 0.4527\n",
            "Epoch 89/100\n",
            " 26/100 [======>.......................] - ETA: 13s - loss: 0.3345"
          ],
          "name": "stdout"
        },
        {
          "output_type": "stream",
          "text": [
            "100/100 [==============================] - 32s 320ms/step - loss: 0.3553 - val_loss: 0.3805\n",
            "Epoch 90/100\n",
            "100/100 [==============================] - 32s 317ms/step - loss: 0.3504 - val_loss: 0.4268\n",
            "Epoch 91/100\n",
            "100/100 [==============================] - 33s 328ms/step - loss: 0.3497 - val_loss: 0.3914\n",
            "Epoch 92/100\n",
            "100/100 [==============================] - 32s 322ms/step - loss: 0.3490 - val_loss: 0.3740\n",
            "Epoch 93/100\n",
            " 25/100 [======>.......................] - ETA: 13s - loss: 0.3148"
          ],
          "name": "stdout"
        },
        {
          "output_type": "stream",
          "text": [
            "100/100 [==============================] - 32s 317ms/step - loss: 0.3417 - val_loss: 0.4268\n",
            "Epoch 94/100\n",
            "100/100 [==============================] - 32s 320ms/step - loss: 0.3400 - val_loss: 0.4210\n",
            "Epoch 95/100\n",
            "100/100 [==============================] - 33s 325ms/step - loss: 0.3344 - val_loss: 0.3811\n",
            "Epoch 96/100\n",
            "100/100 [==============================] - 32s 319ms/step - loss: 0.3339 - val_loss: 0.4389\n",
            "Epoch 97/100\n",
            " 24/100 [======>.......................] - ETA: 13s - loss: 0.3549"
          ],
          "name": "stdout"
        },
        {
          "output_type": "stream",
          "text": [
            "100/100 [==============================] - 30s 303ms/step - loss: 0.3237 - val_loss: 0.4285\n",
            "Epoch 98/100\n",
            "100/100 [==============================] - 35s 347ms/step - loss: 0.3268 - val_loss: 0.4856\n",
            "Epoch 99/100\n",
            "100/100 [==============================] - 32s 323ms/step - loss: 0.3408 - val_loss: 0.4085\n",
            "Epoch 100/100\n",
            "100/100 [==============================] - 32s 321ms/step - loss: 0.3375 - val_loss: 0.4616\n"
          ],
          "name": "stdout"
        }
      ]
    },
    {
      "metadata": {
        "id": "ptzf5N5hzf0-",
        "colab_type": "code",
        "colab": {
          "autoexec": {
            "startup": false,
            "wait_interval": 0
          }
        }
      },
      "cell_type": "code",
      "source": [
        "model.save('cats_and_dogs_small_2.h5')"
      ],
      "execution_count": 0,
      "outputs": []
    },
    {
      "metadata": {
        "id": "ofRJpqVYAKOH",
        "colab_type": "code",
        "colab": {
          "autoexec": {
            "startup": false,
            "wait_interval": 0
          }
        }
      },
      "cell_type": "code",
      "source": [
        "from google.colab import files\n",
        "\n",
        "files.download('cats_and_dogs_small_2.h5')"
      ],
      "execution_count": 0,
      "outputs": []
    },
    {
      "metadata": {
        "id": "SJNtAw0mAay-",
        "colab_type": "code",
        "colab": {
          "autoexec": {
            "startup": false,
            "wait_interval": 0
          },
          "base_uri": "https://localhost:8080/",
          "height": 34
        },
        "outputId": "164d3208-3d84-4173-e822-ad9d838cb54e",
        "executionInfo": {
          "status": "ok",
          "timestamp": 1526273835219,
          "user_tz": -180,
          "elapsed": 707,
          "user": {
            "displayName": "Юрий Истомин",
            "photoUrl": "//lh3.googleusercontent.com/-Nypt7K0lj_Q/AAAAAAAAAAI/AAAAAAAAIiA/wQd3WoLxAjA/s50-c-k-no/photo.jpg",
            "userId": "111110306008352060198"
          }
        }
      },
      "cell_type": "code",
      "source": [
        "history.history.keys()"
      ],
      "execution_count": 36,
      "outputs": [
        {
          "output_type": "execute_result",
          "data": {
            "text/plain": [
              "dict_keys(['val_loss', 'loss'])"
            ]
          },
          "metadata": {
            "tags": []
          },
          "execution_count": 36
        }
      ]
    },
    {
      "metadata": {
        "id": "xh7eh59qzqca",
        "colab_type": "code",
        "colab": {
          "autoexec": {
            "startup": false,
            "wait_interval": 0
          },
          "base_uri": "https://localhost:8080/",
          "height": 252
        },
        "outputId": "9195ad0f-4950-4e2e-f4f0-76a8927d6573",
        "executionInfo": {
          "status": "error",
          "timestamp": 1526273625090,
          "user_tz": -180,
          "elapsed": 601,
          "user": {
            "displayName": "Юрий Истомин",
            "photoUrl": "//lh3.googleusercontent.com/-Nypt7K0lj_Q/AAAAAAAAAAI/AAAAAAAAIiA/wQd3WoLxAjA/s50-c-k-no/photo.jpg",
            "userId": "111110306008352060198"
          }
        }
      },
      "cell_type": "code",
      "source": [
        "%matplotlib inline\n",
        "import matplotlib.pyplot as plt \n",
        "\n",
        "acc = history.history['acc']\n",
        "val_acc = history.history['val_acc']\n",
        "loss = history.history['loss']\n",
        "val_loss = history.history['val_loss']\n",
        "\n",
        "epochs = range(1, len(acc) + 1)\n",
        "\n",
        "plt.figure(figsize=(9, 5))\n",
        "\n",
        "plt.plot(epochs, acc, 'bo', label='Training acc')\n",
        "plt.plot(epochs, val_acc, 'b', label='Validation acc')\n",
        "plt.title('Training and validation accuracy')\n",
        "plt.legend()\n",
        "\n",
        "plt.figure(figsize=(9, 5))\n",
        "\n",
        "plt.plot(epochs, loss, 'bo', label='Training loss')\n",
        "plt.plot(epochs, val_loss, 'b', label='Validation loss')\n",
        "plt.title('Training and validation loss')\n",
        "plt.legend()\n",
        "\n",
        "plt.show()"
      ],
      "execution_count": 34,
      "outputs": [
        {
          "output_type": "error",
          "ename": "KeyError",
          "evalue": "ignored",
          "traceback": [
            "\u001b[0;31m---------------------------------------------------------------------------\u001b[0m",
            "\u001b[0;31mKeyError\u001b[0m                                  Traceback (most recent call last)",
            "\u001b[0;32m<ipython-input-34-673850a8b23e>\u001b[0m in \u001b[0;36m<module>\u001b[0;34m()\u001b[0m\n\u001b[1;32m      2\u001b[0m \u001b[0;32mimport\u001b[0m \u001b[0mmatplotlib\u001b[0m\u001b[0;34m.\u001b[0m\u001b[0mpyplot\u001b[0m \u001b[0;32mas\u001b[0m \u001b[0mplt\u001b[0m\u001b[0;34m\u001b[0m\u001b[0m\n\u001b[1;32m      3\u001b[0m \u001b[0;34m\u001b[0m\u001b[0m\n\u001b[0;32m----> 4\u001b[0;31m \u001b[0macc\u001b[0m \u001b[0;34m=\u001b[0m \u001b[0mhistory\u001b[0m\u001b[0;34m.\u001b[0m\u001b[0mhistory\u001b[0m\u001b[0;34m[\u001b[0m\u001b[0;34m'acc'\u001b[0m\u001b[0;34m]\u001b[0m\u001b[0;34m\u001b[0m\u001b[0m\n\u001b[0m\u001b[1;32m      5\u001b[0m \u001b[0mval_acc\u001b[0m \u001b[0;34m=\u001b[0m \u001b[0mhistory\u001b[0m\u001b[0;34m.\u001b[0m\u001b[0mhistory\u001b[0m\u001b[0;34m[\u001b[0m\u001b[0;34m'val_acc'\u001b[0m\u001b[0;34m]\u001b[0m\u001b[0;34m\u001b[0m\u001b[0m\n\u001b[1;32m      6\u001b[0m \u001b[0mloss\u001b[0m \u001b[0;34m=\u001b[0m \u001b[0mhistory\u001b[0m\u001b[0;34m.\u001b[0m\u001b[0mhistory\u001b[0m\u001b[0;34m[\u001b[0m\u001b[0;34m'loss'\u001b[0m\u001b[0;34m]\u001b[0m\u001b[0;34m\u001b[0m\u001b[0m\n",
            "\u001b[0;31mKeyError\u001b[0m: 'acc'"
          ]
        }
      ]
    },
    {
      "metadata": {
        "id": "tLYKBF730KzJ",
        "colab_type": "text"
      },
      "cell_type": "markdown",
      "source": [
        "Accuracy reaches 82%"
      ]
    },
    {
      "metadata": {
        "id": "ObbCwUGmQvI3",
        "colab_type": "code",
        "colab": {
          "autoexec": {
            "startup": false,
            "wait_interval": 0
          },
          "base_uri": "https://localhost:8080/",
          "height": 51
        },
        "outputId": "f88cb0c2-cfcb-4d2e-ecda-986965d9c833",
        "executionInfo": {
          "status": "ok",
          "timestamp": 1526278226093,
          "user_tz": -180,
          "elapsed": 1599,
          "user": {
            "displayName": "Юрий Истомин",
            "photoUrl": "//lh3.googleusercontent.com/-Nypt7K0lj_Q/AAAAAAAAAAI/AAAAAAAAIiA/wQd3WoLxAjA/s50-c-k-no/photo.jpg",
            "userId": "111110306008352060198"
          }
        }
      },
      "cell_type": "code",
      "source": [
        "! ls"
      ],
      "execution_count": 46,
      "outputs": [
        {
          "output_type": "stream",
          "text": [
            "cats_and_dogs\t\t  cats_and_dogs_small_2.h5  ml-datasets\r\n",
            "cats_and_dogs_small_1.h5  datalab\r\n"
          ],
          "name": "stdout"
        }
      ]
    },
    {
      "metadata": {
        "id": "OvPk37dt0s4U",
        "colab_type": "text"
      },
      "cell_type": "markdown",
      "source": [
        "## Using a pretrained convnet\n",
        "\n",
        "A common and highly effective approach to deep learning on small image datasets is to use a pretrained network. A pretrained network is a saved network that was previously trained on a large dataset. If this original dataset is large enough and general enough, then the spatial hierarchy of features learned by the pretrained network can effectively act as a generic model of the visual world, and hence its features can prove useful for many different computer-classes than those of the original task. \n",
        "\n",
        "There are two ways to use a pretrained network: _feature extraction_ and _fine-tuning_.\n",
        "\n",
        "### Feature extraction\n",
        "\n",
        "Feature extraction consists of using the representations learned by a previous network to extract interesting features from new samples. These features are then run throuugh a new classifier, which is trained from scratch. \n",
        "\n",
        "In the case of convnets, feature extraction consists of taking the convolutional base of a previously trained network, running the new data through it, and training a new classifier on top of the output. \n",
        "\n",
        "The level of generality of the representations extracted by specific convolution layers depends on the depth of the layer in the model. Layers that come earlier in the model extract local, highly generic feature maps, whereas layers that are higher up extract more-abstract concept.\n",
        "\n",
        "The VGG16 model comes prepackaged with Keras. You can import it from the `keras.applicaions` module. Here's the list of image-classification models that are available as part of `keras.applications`:\n",
        "* Xception\n",
        "* Inception V3\n",
        "* Resnet\n",
        "* VGG16\n",
        "* VGG19\n",
        "* MobileNet"
      ]
    },
    {
      "metadata": {
        "id": "7CrCwqP8z3JL",
        "colab_type": "code",
        "colab": {
          "autoexec": {
            "startup": false,
            "wait_interval": 0
          },
          "base_uri": "https://localhost:8080/",
          "height": 88
        },
        "outputId": "6b8f5d33-966e-431c-830c-7ad459700dc5",
        "executionInfo": {
          "status": "ok",
          "timestamp": 1526293017751,
          "user_tz": -180,
          "elapsed": 19654,
          "user": {
            "displayName": "Юрий Истомин",
            "photoUrl": "//lh3.googleusercontent.com/-Nypt7K0lj_Q/AAAAAAAAAAI/AAAAAAAAIiA/wQd3WoLxAjA/s50-c-k-no/photo.jpg",
            "userId": "111110306008352060198"
          }
        }
      },
      "cell_type": "code",
      "source": [
        "from keras.applications import VGG16\n",
        "from keras import models, layers\n",
        "\n",
        "conv_base = VGG16(weights='imagenet',\n",
        "                 include_top=False, \n",
        "                 input_shape=(150, 150, 3))"
      ],
      "execution_count": 7,
      "outputs": [
        {
          "output_type": "stream",
          "text": [
            "Using TensorFlow backend.\n"
          ],
          "name": "stderr"
        },
        {
          "output_type": "stream",
          "text": [
            "Downloading data from https://github.com/fchollet/deep-learning-models/releases/download/v0.1/vgg16_weights_tf_dim_ordering_tf_kernels_notop.h5\n",
            "58892288/58889256 [==============================] - 10s 0us/step\n"
          ],
          "name": "stdout"
        }
      ]
    },
    {
      "metadata": {
        "id": "2SRfYCF6R2Kh",
        "colab_type": "text"
      },
      "cell_type": "markdown",
      "source": [
        "* `weights` specifies the weight checkpoint from which to initialize the model\n",
        "* `include_top` refers to including or not the densely connected classifier on top of the networl\n",
        "* `input_shape` is the shape of the image tensors that you'll feed to the network. If you don't pass it, the network will be able to process inputs of any size."
      ]
    },
    {
      "metadata": {
        "id": "5zhXVeAQQpcX",
        "colab_type": "code",
        "colab": {
          "autoexec": {
            "startup": false,
            "wait_interval": 0
          },
          "base_uri": "https://localhost:8080/",
          "height": 782
        },
        "outputId": "59d14e46-6d69-490c-9e2f-e726b012c65e",
        "executionInfo": {
          "status": "ok",
          "timestamp": 1526278251582,
          "user_tz": -180,
          "elapsed": 635,
          "user": {
            "displayName": "Юрий Истомин",
            "photoUrl": "//lh3.googleusercontent.com/-Nypt7K0lj_Q/AAAAAAAAAAI/AAAAAAAAIiA/wQd3WoLxAjA/s50-c-k-no/photo.jpg",
            "userId": "111110306008352060198"
          }
        }
      },
      "cell_type": "code",
      "source": [
        "conv_base.summary()"
      ],
      "execution_count": 48,
      "outputs": [
        {
          "output_type": "stream",
          "text": [
            "_________________________________________________________________\n",
            "Layer (type)                 Output Shape              Param #   \n",
            "=================================================================\n",
            "input_1 (InputLayer)         (None, 150, 150, 3)       0         \n",
            "_________________________________________________________________\n",
            "block1_conv1 (Conv2D)        (None, 150, 150, 64)      1792      \n",
            "_________________________________________________________________\n",
            "block1_conv2 (Conv2D)        (None, 150, 150, 64)      36928     \n",
            "_________________________________________________________________\n",
            "block1_pool (MaxPooling2D)   (None, 75, 75, 64)        0         \n",
            "_________________________________________________________________\n",
            "block2_conv1 (Conv2D)        (None, 75, 75, 128)       73856     \n",
            "_________________________________________________________________\n",
            "block2_conv2 (Conv2D)        (None, 75, 75, 128)       147584    \n",
            "_________________________________________________________________\n",
            "block2_pool (MaxPooling2D)   (None, 37, 37, 128)       0         \n",
            "_________________________________________________________________\n",
            "block3_conv1 (Conv2D)        (None, 37, 37, 256)       295168    \n",
            "_________________________________________________________________\n",
            "block3_conv2 (Conv2D)        (None, 37, 37, 256)       590080    \n",
            "_________________________________________________________________\n",
            "block3_conv3 (Conv2D)        (None, 37, 37, 256)       590080    \n",
            "_________________________________________________________________\n",
            "block3_pool (MaxPooling2D)   (None, 18, 18, 256)       0         \n",
            "_________________________________________________________________\n",
            "block4_conv1 (Conv2D)        (None, 18, 18, 512)       1180160   \n",
            "_________________________________________________________________\n",
            "block4_conv2 (Conv2D)        (None, 18, 18, 512)       2359808   \n",
            "_________________________________________________________________\n",
            "block4_conv3 (Conv2D)        (None, 18, 18, 512)       2359808   \n",
            "_________________________________________________________________\n",
            "block4_pool (MaxPooling2D)   (None, 9, 9, 512)         0         \n",
            "_________________________________________________________________\n",
            "block5_conv1 (Conv2D)        (None, 9, 9, 512)         2359808   \n",
            "_________________________________________________________________\n",
            "block5_conv2 (Conv2D)        (None, 9, 9, 512)         2359808   \n",
            "_________________________________________________________________\n",
            "block5_conv3 (Conv2D)        (None, 9, 9, 512)         2359808   \n",
            "_________________________________________________________________\n",
            "block5_pool (MaxPooling2D)   (None, 4, 4, 512)         0         \n",
            "=================================================================\n",
            "Total params: 14,714,688\n",
            "Trainable params: 14,714,688\n",
            "Non-trainable params: 0\n",
            "_________________________________________________________________\n"
          ],
          "name": "stdout"
        }
      ]
    },
    {
      "metadata": {
        "id": "47Jb9IZHSsOs",
        "colab_type": "text"
      },
      "cell_type": "markdown",
      "source": [
        "There are two ways to proceed:\n",
        "* Running the convolutional base over your dataset, recording its output to a Numpy array on disk, and then using data as input to a standalone, densely connected classifier. \n",
        "* Extending the model you have by adding Dense layers on top and running the whole thing end to end on the input data.\n",
        "\n",
        "#### Fast feature extraction without data augmentation"
      ]
    },
    {
      "metadata": {
        "id": "h_tA-xp5ReFq",
        "colab_type": "code",
        "colab": {
          "autoexec": {
            "startup": false,
            "wait_interval": 0
          },
          "base_uri": "https://localhost:8080/",
          "height": 68
        },
        "outputId": "3c59ecdb-e8bf-461a-eab6-48dafa141a96",
        "executionInfo": {
          "status": "ok",
          "timestamp": 1526293163303,
          "user_tz": -180,
          "elapsed": 39523,
          "user": {
            "displayName": "Юрий Истомин",
            "photoUrl": "//lh3.googleusercontent.com/-Nypt7K0lj_Q/AAAAAAAAAAI/AAAAAAAAIiA/wQd3WoLxAjA/s50-c-k-no/photo.jpg",
            "userId": "111110306008352060198"
          }
        }
      },
      "cell_type": "code",
      "source": [
        "import numpy as np\n",
        "from keras.preprocessing.image import ImageDataGenerator\n",
        "\n",
        "datagen = ImageDataGenerator(rescale=1./255)\n",
        "batch_size = 20\n",
        "\n",
        "def extract_features(directory, sample_count):\n",
        "  features = np.zeros(shape=(sample_count, 4, 4, 512))\n",
        "  labels = np.zeros(shape=(sample_count))\n",
        "  generator = datagen.flow_from_directory(\n",
        "      directory,\n",
        "      target_size=(150,150),\n",
        "      batch_size=batch_size,\n",
        "      class_mode='binary'\n",
        "  )\n",
        "  \n",
        "  i = 0\n",
        "  for inputs_batch, labels_batch in generator:\n",
        "    features_batch = conv_base.predict(inputs_batch)\n",
        "    features[i * batch_size: (i + 1) * batch_size] = features_batch\n",
        "    labels[i * batch_size: (i + 1) * batch_size] = labels_batch\n",
        "    i += 1\n",
        "    if i * batch_size >= sample_count:\n",
        "      break\n",
        "  return features, labels\n",
        "\n",
        "train_features, train_labels = extract_features(train_dir, 2000)\n",
        "validation_features, validation_labels = extract_features(validation_dir, 1000)\n",
        "test_features, test_labels = extract_features(test_dir, 1000)"
      ],
      "execution_count": 11,
      "outputs": [
        {
          "output_type": "stream",
          "text": [
            "Found 2000 images belonging to 2 classes.\n",
            "Found 1000 images belonging to 2 classes.\n",
            "Found 1000 images belonging to 2 classes.\n"
          ],
          "name": "stdout"
        }
      ]
    },
    {
      "metadata": {
        "id": "lW_I46oYZf2F",
        "colab_type": "text"
      },
      "cell_type": "markdown",
      "source": [
        "The extracted features are currently of shape (samples, 4, 4, 512). You'll feed them to a densely connected classifier, so first you must flatten them to (samples, 8192)"
      ]
    },
    {
      "metadata": {
        "id": "RyKzjK9gZb2o",
        "colab_type": "code",
        "colab": {
          "autoexec": {
            "startup": false,
            "wait_interval": 0
          }
        }
      },
      "cell_type": "code",
      "source": [
        "train_features = np.reshape(train_features, (2000, 4*4*512))\n",
        "validation_features = np.reshape(validation_features, (1000, 4*4*512))\n",
        "test_features = np.reshape(test_features, (1000, 4*4*512))"
      ],
      "execution_count": 0,
      "outputs": []
    },
    {
      "metadata": {
        "id": "WlfQV0ggaD53",
        "colab_type": "text"
      },
      "cell_type": "markdown",
      "source": [
        "At this point, you can define your densely connected classifier and train it on the data and labels that you just recorded."
      ]
    },
    {
      "metadata": {
        "id": "u-WR9pBcZ9yu",
        "colab_type": "code",
        "colab": {
          "autoexec": {
            "startup": false,
            "wait_interval": 0
          },
          "base_uri": "https://localhost:8080/",
          "height": 1074
        },
        "outputId": "4f211471-5d73-4cd7-f0fd-a137a722a7b6",
        "executionInfo": {
          "status": "ok",
          "timestamp": 1526280719104,
          "user_tz": -180,
          "elapsed": 33125,
          "user": {
            "displayName": "Юрий Истомин",
            "photoUrl": "//lh3.googleusercontent.com/-Nypt7K0lj_Q/AAAAAAAAAAI/AAAAAAAAIiA/wQd3WoLxAjA/s50-c-k-no/photo.jpg",
            "userId": "111110306008352060198"
          }
        }
      },
      "cell_type": "code",
      "source": [
        "model = models.Sequential()\n",
        "model.add(layers.Dense(256, activation='relu', input_dim=4*4*512))\n",
        "model.add(layers.Dropout(0.5))\n",
        "model.add(layers.Dense(1, activation='sigmoid'))\n",
        "\n",
        "model.compile(optimizer=optimizers.RMSprop(lr=2e-5),\n",
        "             loss='binary_crossentropy',\n",
        "             metrics=['acc'])\n",
        "\n",
        "history = model.fit(train_features, train_labels, \n",
        "                   epochs=30,\n",
        "                   batch_size=20,\n",
        "                   validation_data=(validation_features, validation_labels))"
      ],
      "execution_count": 52,
      "outputs": [
        {
          "output_type": "stream",
          "text": [
            "Train on 2000 samples, validate on 1000 samples\n",
            "Epoch 1/30\n",
            "2000/2000 [==============================] - 1s 632us/step - loss: 0.6113 - acc: 0.6600 - val_loss: 0.4319 - val_acc: 0.8420\n",
            "Epoch 2/30\n",
            "2000/2000 [==============================] - 1s 498us/step - loss: 0.4324 - acc: 0.8015 - val_loss: 0.3545 - val_acc: 0.8700\n",
            "Epoch 3/30\n",
            "2000/2000 [==============================] - 1s 533us/step - loss: 0.3630 - acc: 0.8375 - val_loss: 0.3226 - val_acc: 0.8720\n",
            "Epoch 4/30\n",
            "2000/2000 [==============================] - 1s 535us/step - loss: 0.3218 - acc: 0.8605 - val_loss: 0.3001 - val_acc: 0.8780\n",
            "Epoch 5/30\n",
            "2000/2000 [==============================] - 1s 545us/step - loss: 0.2887 - acc: 0.8820 - val_loss: 0.2818 - val_acc: 0.8900\n",
            "Epoch 6/30\n",
            "2000/2000 [==============================] - 1s 540us/step - loss: 0.2634 - acc: 0.9010 - val_loss: 0.2823 - val_acc: 0.8770\n",
            "Epoch 7/30\n",
            "2000/2000 [==============================] - 1s 538us/step - loss: 0.2382 - acc: 0.9070 - val_loss: 0.2649 - val_acc: 0.8940\n",
            "Epoch 8/30\n",
            "2000/2000 [==============================] - 1s 541us/step - loss: 0.2351 - acc: 0.9125 - val_loss: 0.2607 - val_acc: 0.8930\n",
            "Epoch 9/30\n",
            " 840/2000 [===========>..................] - ETA: 0s - loss: 0.2292 - acc: 0.9131"
          ],
          "name": "stdout"
        },
        {
          "output_type": "stream",
          "text": [
            "2000/2000 [==============================] - 1s 537us/step - loss: 0.2147 - acc: 0.9185 - val_loss: 0.2547 - val_acc: 0.8970\n",
            "Epoch 10/30\n",
            "2000/2000 [==============================] - 1s 536us/step - loss: 0.2112 - acc: 0.9225 - val_loss: 0.2495 - val_acc: 0.9010\n",
            "Epoch 11/30\n",
            "2000/2000 [==============================] - 1s 539us/step - loss: 0.1998 - acc: 0.9215 - val_loss: 0.2522 - val_acc: 0.9000\n",
            "Epoch 12/30\n",
            "2000/2000 [==============================] - 1s 536us/step - loss: 0.1882 - acc: 0.9325 - val_loss: 0.2421 - val_acc: 0.8990\n",
            "Epoch 13/30\n",
            "2000/2000 [==============================] - 1s 531us/step - loss: 0.1739 - acc: 0.9385 - val_loss: 0.2410 - val_acc: 0.9040\n",
            "Epoch 14/30\n",
            "2000/2000 [==============================] - 1s 525us/step - loss: 0.1774 - acc: 0.9335 - val_loss: 0.2432 - val_acc: 0.9020\n",
            "Epoch 15/30\n",
            "2000/2000 [==============================] - 1s 537us/step - loss: 0.1652 - acc: 0.9415 - val_loss: 0.2392 - val_acc: 0.9040\n",
            "Epoch 16/30\n",
            "2000/2000 [==============================] - 1s 530us/step - loss: 0.1570 - acc: 0.9465 - val_loss: 0.2379 - val_acc: 0.9050\n",
            "Epoch 17/30\n",
            "1700/2000 [========================>.....] - ETA: 0s - loss: 0.1502 - acc: 0.9471"
          ],
          "name": "stdout"
        },
        {
          "output_type": "stream",
          "text": [
            "2000/2000 [==============================] - 1s 523us/step - loss: 0.1475 - acc: 0.9485 - val_loss: 0.2452 - val_acc: 0.8990\n",
            "Epoch 18/30\n",
            "2000/2000 [==============================] - 1s 531us/step - loss: 0.1395 - acc: 0.9550 - val_loss: 0.2385 - val_acc: 0.9040\n",
            "Epoch 19/30\n",
            "2000/2000 [==============================] - 1s 544us/step - loss: 0.1339 - acc: 0.9525 - val_loss: 0.2361 - val_acc: 0.9010\n",
            "Epoch 20/30\n",
            "2000/2000 [==============================] - 1s 536us/step - loss: 0.1323 - acc: 0.9550 - val_loss: 0.2389 - val_acc: 0.9010\n",
            "Epoch 21/30\n",
            "2000/2000 [==============================] - 1s 532us/step - loss: 0.1265 - acc: 0.9570 - val_loss: 0.2351 - val_acc: 0.8990\n",
            "Epoch 22/30\n",
            "2000/2000 [==============================] - 1s 546us/step - loss: 0.1293 - acc: 0.9555 - val_loss: 0.2358 - val_acc: 0.9050\n",
            "Epoch 23/30\n",
            "2000/2000 [==============================] - 1s 522us/step - loss: 0.1155 - acc: 0.9610 - val_loss: 0.2362 - val_acc: 0.9040\n",
            "Epoch 24/30\n",
            "2000/2000 [==============================] - 1s 524us/step - loss: 0.1088 - acc: 0.9640 - val_loss: 0.2401 - val_acc: 0.9050\n",
            "Epoch 25/30\n",
            "1580/2000 [======================>.......] - ETA: 0s - loss: 0.1081 - acc: 0.9677"
          ],
          "name": "stdout"
        },
        {
          "output_type": "stream",
          "text": [
            "2000/2000 [==============================] - 1s 531us/step - loss: 0.1078 - acc: 0.9665 - val_loss: 0.2353 - val_acc: 0.9040\n",
            "Epoch 26/30\n",
            "2000/2000 [==============================] - 1s 527us/step - loss: 0.1030 - acc: 0.9685 - val_loss: 0.2356 - val_acc: 0.9020\n",
            "Epoch 27/30\n",
            "2000/2000 [==============================] - 1s 530us/step - loss: 0.0994 - acc: 0.9665 - val_loss: 0.2475 - val_acc: 0.9010\n",
            "Epoch 28/30\n",
            "2000/2000 [==============================] - 1s 540us/step - loss: 0.0984 - acc: 0.9685 - val_loss: 0.2406 - val_acc: 0.9030\n",
            "Epoch 29/30\n",
            "2000/2000 [==============================] - 1s 529us/step - loss: 0.0912 - acc: 0.9745 - val_loss: 0.2373 - val_acc: 0.9020\n",
            "Epoch 30/30\n",
            "2000/2000 [==============================] - 1s 526us/step - loss: 0.0859 - acc: 0.9740 - val_loss: 0.2469 - val_acc: 0.9010\n"
          ],
          "name": "stdout"
        }
      ]
    },
    {
      "metadata": {
        "id": "vB1Uy9dzawks",
        "colab_type": "code",
        "colab": {
          "autoexec": {
            "startup": false,
            "wait_interval": 0
          },
          "base_uri": "https://localhost:8080/",
          "height": 653
        },
        "outputId": "d8f8fad1-d344-4f71-d2ec-6b1f0e711038",
        "executionInfo": {
          "status": "ok",
          "timestamp": 1526280894235,
          "user_tz": -180,
          "elapsed": 1584,
          "user": {
            "displayName": "Юрий Истомин",
            "photoUrl": "//lh3.googleusercontent.com/-Nypt7K0lj_Q/AAAAAAAAAAI/AAAAAAAAIiA/wQd3WoLxAjA/s50-c-k-no/photo.jpg",
            "userId": "111110306008352060198"
          }
        }
      },
      "cell_type": "code",
      "source": [
        "history = history.history\n",
        "acc = history['acc']\n",
        "val_acc = history['val_acc']\n",
        "loss = history['loss']\n",
        "val_loss = history['val_loss']\n",
        "\n",
        "epochs = range(1, len(acc) + 1)\n",
        "\n",
        "plt.figure(figsize=(8, 5))\n",
        "\n",
        "plt.plot(epochs, acc, 'bo', label='Training acc')\n",
        "plt.plot(epochs, val_acc, 'b', label='Validation acc')\n",
        "plt.title('Training and validation accuracy')\n",
        "plt.legend()\n",
        "\n",
        "plt.figure(figsize=(8, 5))\n",
        "\n",
        "plt.plot(epochs, loss, 'bo', label='Training loss')\n",
        "plt.plot(epochs, val_loss, 'b', label='Validation loss')\n",
        "plt.title('Training and validation loss')\n",
        "plt.legend() \n",
        "\n",
        "plt.show()"
      ],
      "execution_count": 53,
      "outputs": [
        {
          "output_type": "display_data",
          "data": {
            "image/png": "[encoded data removed]",
            "text/plain": [
              "<matplotlib.figure.Figure at 0x7fe03e98d710>"
            ]
          },
          "metadata": {
            "tags": []
          }
        },
        {
          "output_type": "display_data",
          "data": {
            "image/png": "[encoded data removed]",
            "text/plain": [
              "<matplotlib.figure.Figure at 0x7fe0123e9710>"
            ]
          },
          "metadata": {
            "tags": []
          }
        }
      ]
    },
    {
      "metadata": {
        "id": "8zscPMwfbtUj",
        "colab_type": "text"
      },
      "cell_type": "markdown",
      "source": [
        "Validation accuracy ~ 90%\n",
        "\n",
        "#### Feature extraction with data augmentation\n",
        "\n",
        "Because models behave just like layers, you can add a model to a Sequential model just like you would add a layer."
      ]
    },
    {
      "metadata": {
        "id": "2XnwDuxZbjB_",
        "colab_type": "code",
        "colab": {
          "autoexec": {
            "startup": false,
            "wait_interval": 0
          }
        }
      },
      "cell_type": "code",
      "source": [
        "model = models.Sequential()\n",
        "model.add(conv_base)\n",
        "model.add(layers.Flatten())\n",
        "model.add(layers.Dense(256, activation='relu'))\n",
        "model.add(layers.Dense(1, activation='sigmoid'))"
      ],
      "execution_count": 0,
      "outputs": []
    },
    {
      "metadata": {
        "id": "AjDx1ZcbcaIk",
        "colab_type": "code",
        "colab": {
          "autoexec": {
            "startup": false,
            "wait_interval": 0
          },
          "base_uri": "https://localhost:8080/",
          "height": 272
        },
        "outputId": "f59cfff3-7a76-4317-f8a3-a6bb6b7c591d",
        "executionInfo": {
          "status": "ok",
          "timestamp": 1526281336020,
          "user_tz": -180,
          "elapsed": 694,
          "user": {
            "displayName": "Юрий Истомин",
            "photoUrl": "//lh3.googleusercontent.com/-Nypt7K0lj_Q/AAAAAAAAAAI/AAAAAAAAIiA/wQd3WoLxAjA/s50-c-k-no/photo.jpg",
            "userId": "111110306008352060198"
          }
        }
      },
      "cell_type": "code",
      "source": [
        "model.summary()"
      ],
      "execution_count": 57,
      "outputs": [
        {
          "output_type": "stream",
          "text": [
            "_________________________________________________________________\n",
            "Layer (type)                 Output Shape              Param #   \n",
            "=================================================================\n",
            "vgg16 (Model)                (None, 4, 4, 512)         14714688  \n",
            "_________________________________________________________________\n",
            "flatten_3 (Flatten)          (None, 8192)              0         \n",
            "_________________________________________________________________\n",
            "dense_7 (Dense)              (None, 256)               2097408   \n",
            "_________________________________________________________________\n",
            "dense_8 (Dense)              (None, 1)                 257       \n",
            "=================================================================\n",
            "Total params: 16,812,353\n",
            "Trainable params: 2,097,665\n",
            "Non-trainable params: 14,714,688\n",
            "_________________________________________________________________\n"
          ],
          "name": "stdout"
        }
      ]
    },
    {
      "metadata": {
        "id": "xvVhGaDmclZF",
        "colab_type": "text"
      },
      "cell_type": "markdown",
      "source": [
        "Before you compile and train the model, it's very important to freeze the convolutional base. _Freezing_ a layer or set of layers means preventing their weights from being updated during training. \n",
        "\n",
        "In Keras, you freeze a network by setting its `trainable` attribute to False."
      ]
    },
    {
      "metadata": {
        "id": "QytvSeEFcbCt",
        "colab_type": "code",
        "colab": {
          "autoexec": {
            "startup": false,
            "wait_interval": 0
          }
        }
      },
      "cell_type": "code",
      "source": [
        "conv_base.trainable = False"
      ],
      "execution_count": 0,
      "outputs": []
    },
    {
      "metadata": {
        "id": "eGCnEm02dJxV",
        "colab_type": "code",
        "colab": {
          "autoexec": {
            "startup": false,
            "wait_interval": 0
          },
          "base_uri": "https://localhost:8080/",
          "height": 1091
        },
        "outputId": "b1ec665e-cace-440a-9ded-9373c6226e7a",
        "executionInfo": {
          "status": "ok",
          "timestamp": 1526294006241,
          "user_tz": -180,
          "elapsed": 816737,
          "user": {
            "displayName": "Юрий Истомин",
            "photoUrl": "//lh3.googleusercontent.com/-Nypt7K0lj_Q/AAAAAAAAAAI/AAAAAAAAIiA/wQd3WoLxAjA/s50-c-k-no/photo.jpg",
            "userId": "111110306008352060198"
          }
        }
      },
      "cell_type": "code",
      "source": [
        "from keras import optimizers\n",
        "\n",
        "train_datagen = ImageDataGenerator(\n",
        "    rescale=1./255,\n",
        "    rotation_range=40,\n",
        "    width_shift_range=0.2,\n",
        "    height_shift_range=0.2,\n",
        "    shear_range=0.2,\n",
        "    zoom_range=0.2,\n",
        "    horizontal_flip=True,\n",
        "    fill_mode='nearest'\n",
        ")\n",
        "\n",
        "test_datagen = ImageDataGenerator(rescale=1./255)\n",
        "\n",
        "train_generator = train_datagen.flow_from_directory(\n",
        "    train_dir,\n",
        "    target_size=(150, 150),\n",
        "    batch_size=20, \n",
        "    class_mode='binary'\n",
        ")\n",
        "\n",
        "validation_generator = test_datagen.flow_from_directory(\n",
        "    validation_dir,\n",
        "    target_size=(150, 150),\n",
        "    batch_size=20,\n",
        "    class_mode='binary'\n",
        ")\n",
        "\n",
        "model.compile(loss='binary_crossentropy',\n",
        "             optimizer=optimizers.RMSprop(lr=2e-5),\n",
        "             metrics=['acc'])\n",
        "\n",
        "history = model.fit_generator(\n",
        "    train_generator, \n",
        "    steps_per_epoch=100,\n",
        "    epochs=30,\n",
        "    validation_data=validation_generator,\n",
        "    validation_steps=50\n",
        ")\n"
      ],
      "execution_count": 16,
      "outputs": [
        {
          "output_type": "stream",
          "text": [
            "Found 2000 images belonging to 2 classes.\n",
            "Found 1000 images belonging to 2 classes.\n",
            "Epoch 1/30\n",
            "100/100 [==============================] - 29s 286ms/step - loss: 0.5992 - acc: 0.6910 - val_loss: 0.4395 - val_acc: 0.8350\n",
            "Epoch 2/30\n",
            "100/100 [==============================] - 27s 270ms/step - loss: 0.4869 - acc: 0.7785 - val_loss: 0.3695 - val_acc: 0.8470\n",
            "Epoch 3/30\n",
            "100/100 [==============================] - 27s 271ms/step - loss: 0.4301 - acc: 0.8055 - val_loss: 0.3285 - val_acc: 0.8670\n",
            "Epoch 4/30\n",
            " 11/100 [==>...........................] - ETA: 12s - loss: 0.4401 - acc: 0.7955"
          ],
          "name": "stdout"
        },
        {
          "output_type": "stream",
          "text": [
            "100/100 [==============================] - 27s 270ms/step - loss: 0.4109 - acc: 0.8195 - val_loss: 0.3039 - val_acc: 0.8750\n",
            "Epoch 5/30\n",
            "100/100 [==============================] - 27s 269ms/step - loss: 0.3837 - acc: 0.8255 - val_loss: 0.2920 - val_acc: 0.8810\n",
            "Epoch 6/30\n",
            "100/100 [==============================] - 27s 269ms/step - loss: 0.3665 - acc: 0.8325 - val_loss: 0.2933 - val_acc: 0.8810\n",
            "Epoch 7/30\n",
            " 74/100 [=====================>........] - ETA: 5s - loss: 0.3533 - acc: 0.8446"
          ],
          "name": "stdout"
        },
        {
          "output_type": "stream",
          "text": [
            "100/100 [==============================] - 27s 273ms/step - loss: 0.3550 - acc: 0.8445 - val_loss: 0.2845 - val_acc: 0.8760\n",
            "Epoch 8/30\n",
            "100/100 [==============================] - 27s 272ms/step - loss: 0.3464 - acc: 0.8535 - val_loss: 0.2703 - val_acc: 0.8840\n",
            "Epoch 9/30\n",
            "100/100 [==============================] - 27s 275ms/step - loss: 0.3460 - acc: 0.8515 - val_loss: 0.2696 - val_acc: 0.8910\n",
            "Epoch 10/30\n",
            " 85/100 [========================>.....] - ETA: 3s - loss: 0.3324 - acc: 0.8565"
          ],
          "name": "stdout"
        },
        {
          "output_type": "stream",
          "text": [
            "100/100 [==============================] - 27s 273ms/step - loss: 0.3365 - acc: 0.8555 - val_loss: 0.2678 - val_acc: 0.8860\n",
            "Epoch 11/30\n",
            "100/100 [==============================] - 27s 271ms/step - loss: 0.3291 - acc: 0.8545 - val_loss: 0.2602 - val_acc: 0.8880\n",
            "Epoch 12/30\n",
            "100/100 [==============================] - 27s 273ms/step - loss: 0.3173 - acc: 0.8690 - val_loss: 0.2596 - val_acc: 0.8910\n",
            "Epoch 13/30\n",
            " 85/100 [========================>.....] - ETA: 3s - loss: 0.3139 - acc: 0.8759"
          ],
          "name": "stdout"
        },
        {
          "output_type": "stream",
          "text": [
            "100/100 [==============================] - 27s 272ms/step - loss: 0.3212 - acc: 0.8710 - val_loss: 0.2535 - val_acc: 0.8930\n",
            "Epoch 14/30\n",
            "100/100 [==============================] - 27s 271ms/step - loss: 0.3172 - acc: 0.8585 - val_loss: 0.2511 - val_acc: 0.8890\n",
            "Epoch 15/30\n",
            "100/100 [==============================] - 27s 272ms/step - loss: 0.3062 - acc: 0.8730 - val_loss: 0.2522 - val_acc: 0.8890\n",
            "Epoch 16/30\n",
            " 85/100 [========================>.....] - ETA: 3s - loss: 0.3115 - acc: 0.8635"
          ],
          "name": "stdout"
        },
        {
          "output_type": "stream",
          "text": [
            "100/100 [==============================] - 27s 272ms/step - loss: 0.3151 - acc: 0.8620 - val_loss: 0.2478 - val_acc: 0.8950\n",
            "Epoch 17/30\n",
            "100/100 [==============================] - 27s 272ms/step - loss: 0.2969 - acc: 0.8690 - val_loss: 0.2452 - val_acc: 0.8990\n",
            "Epoch 18/30\n",
            "100/100 [==============================] - 27s 271ms/step - loss: 0.2986 - acc: 0.8730 - val_loss: 0.2438 - val_acc: 0.8970\n",
            "Epoch 19/30\n",
            " 85/100 [========================>.....] - ETA: 3s - loss: 0.3029 - acc: 0.8718"
          ],
          "name": "stdout"
        },
        {
          "output_type": "stream",
          "text": [
            "100/100 [==============================] - 27s 272ms/step - loss: 0.3068 - acc: 0.8685 - val_loss: 0.2438 - val_acc: 0.8960\n",
            "Epoch 20/30\n",
            "100/100 [==============================] - 27s 272ms/step - loss: 0.2948 - acc: 0.8705 - val_loss: 0.2427 - val_acc: 0.8960\n",
            "Epoch 21/30\n",
            "100/100 [==============================] - 27s 271ms/step - loss: 0.2954 - acc: 0.8715 - val_loss: 0.2463 - val_acc: 0.9000\n",
            "Epoch 22/30\n",
            " 85/100 [========================>.....] - ETA: 3s - loss: 0.2943 - acc: 0.8747"
          ],
          "name": "stdout"
        },
        {
          "output_type": "stream",
          "text": [
            "100/100 [==============================] - 27s 272ms/step - loss: 0.2937 - acc: 0.8705 - val_loss: 0.2462 - val_acc: 0.8970\n",
            "Epoch 23/30\n",
            "100/100 [==============================] - 27s 268ms/step - loss: 0.2980 - acc: 0.8715 - val_loss: 0.2489 - val_acc: 0.8990\n",
            "Epoch 24/30\n",
            "100/100 [==============================] - 27s 272ms/step - loss: 0.2880 - acc: 0.8740 - val_loss: 0.2466 - val_acc: 0.8970\n",
            "Epoch 25/30\n",
            " 85/100 [========================>.....] - ETA: 3s - loss: 0.2873 - acc: 0.8829"
          ],
          "name": "stdout"
        },
        {
          "output_type": "stream",
          "text": [
            "100/100 [==============================] - 27s 272ms/step - loss: 0.2856 - acc: 0.8860 - val_loss: 0.2437 - val_acc: 0.8970\n",
            "Epoch 26/30\n",
            "100/100 [==============================] - 27s 270ms/step - loss: 0.2853 - acc: 0.8735 - val_loss: 0.2490 - val_acc: 0.8920\n",
            "Epoch 27/30\n",
            "100/100 [==============================] - 27s 270ms/step - loss: 0.2912 - acc: 0.8735 - val_loss: 0.2565 - val_acc: 0.8920\n",
            "Epoch 28/30\n",
            " 85/100 [========================>.....] - ETA: 2s - loss: 0.2937 - acc: 0.8794"
          ],
          "name": "stdout"
        },
        {
          "output_type": "stream",
          "text": [
            "100/100 [==============================] - 27s 271ms/step - loss: 0.2881 - acc: 0.8785 - val_loss: 0.2443 - val_acc: 0.9010\n",
            "Epoch 29/30\n",
            "100/100 [==============================] - 27s 272ms/step - loss: 0.2923 - acc: 0.8710 - val_loss: 0.2394 - val_acc: 0.8950\n",
            "Epoch 30/30\n",
            "100/100 [==============================] - 27s 272ms/step - loss: 0.2802 - acc: 0.8815 - val_loss: 0.2475 - val_acc: 0.8950\n"
          ],
          "name": "stdout"
        }
      ]
    },
    {
      "metadata": {
        "id": "Hwtv1U_KefJ-",
        "colab_type": "code",
        "colab": {
          "autoexec": {
            "startup": false,
            "wait_interval": 0
          },
          "base_uri": "https://localhost:8080/",
          "height": 252
        },
        "outputId": "881ce2c5-26b7-4002-e454-267aa139b834",
        "executionInfo": {
          "status": "error",
          "timestamp": 1526294007061,
          "user_tz": -180,
          "elapsed": 778,
          "user": {
            "displayName": "Юрий Истомин",
            "photoUrl": "//lh3.googleusercontent.com/-Nypt7K0lj_Q/AAAAAAAAAAI/AAAAAAAAIiA/wQd3WoLxAjA/s50-c-k-no/photo.jpg",
            "userId": "111110306008352060198"
          }
        }
      },
      "cell_type": "code",
      "source": [
        "history = history.history\n",
        "acc = history['acc']\n",
        "val_acc = history['val_acc']\n",
        "loss = history['loss']\n",
        "val_loss = history['val_loss']\n",
        "\n",
        "epochs = range(1, len(acc) + 1)\n",
        "\n",
        "plt.figure(figsize=(8, 5))\n",
        "\n",
        "plt.plot(epochs, acc, 'bo', label='Training acc')\n",
        "plt.plot(epochs, val_acc, 'b', label='Validation acc')\n",
        "plt.title('Training and validation accuracy')\n",
        "plt.legend()\n",
        "\n",
        "plt.figure(figsize=(8, 5))\n",
        "\n",
        "plt.plot(epochs, loss, 'bo', label='Training loss')\n",
        "plt.plot(epochs, val_loss, 'b', label='Validation loss')\n",
        "plt.title('Training and validation loss')\n",
        "plt.legend() \n",
        "\n",
        "plt.show()"
      ],
      "execution_count": 17,
      "outputs": [
        {
          "output_type": "error",
          "ename": "NameError",
          "evalue": "ignored",
          "traceback": [
            "\u001b[0;31m---------------------------------------------------------------------------\u001b[0m",
            "\u001b[0;31mNameError\u001b[0m                                 Traceback (most recent call last)",
            "\u001b[0;32m<ipython-input-17-a7374a069064>\u001b[0m in \u001b[0;36m<module>\u001b[0;34m()\u001b[0m\n\u001b[1;32m      7\u001b[0m \u001b[0mepochs\u001b[0m \u001b[0;34m=\u001b[0m \u001b[0mrange\u001b[0m\u001b[0;34m(\u001b[0m\u001b[0;36m1\u001b[0m\u001b[0;34m,\u001b[0m \u001b[0mlen\u001b[0m\u001b[0;34m(\u001b[0m\u001b[0macc\u001b[0m\u001b[0;34m)\u001b[0m \u001b[0;34m+\u001b[0m \u001b[0;36m1\u001b[0m\u001b[0;34m)\u001b[0m\u001b[0;34m\u001b[0m\u001b[0m\n\u001b[1;32m      8\u001b[0m \u001b[0;34m\u001b[0m\u001b[0m\n\u001b[0;32m----> 9\u001b[0;31m \u001b[0mplt\u001b[0m\u001b[0;34m.\u001b[0m\u001b[0mfigure\u001b[0m\u001b[0;34m(\u001b[0m\u001b[0mfigsize\u001b[0m\u001b[0;34m=\u001b[0m\u001b[0;34m(\u001b[0m\u001b[0;36m8\u001b[0m\u001b[0;34m,\u001b[0m \u001b[0;36m5\u001b[0m\u001b[0;34m)\u001b[0m\u001b[0;34m)\u001b[0m\u001b[0;34m\u001b[0m\u001b[0m\n\u001b[0m\u001b[1;32m     10\u001b[0m \u001b[0;34m\u001b[0m\u001b[0m\n\u001b[1;32m     11\u001b[0m \u001b[0mplt\u001b[0m\u001b[0;34m.\u001b[0m\u001b[0mplot\u001b[0m\u001b[0;34m(\u001b[0m\u001b[0mepochs\u001b[0m\u001b[0;34m,\u001b[0m \u001b[0macc\u001b[0m\u001b[0;34m,\u001b[0m \u001b[0;34m'bo'\u001b[0m\u001b[0;34m,\u001b[0m \u001b[0mlabel\u001b[0m\u001b[0;34m=\u001b[0m\u001b[0;34m'Training acc'\u001b[0m\u001b[0;34m)\u001b[0m\u001b[0;34m\u001b[0m\u001b[0m\n",
            "\u001b[0;31mNameError\u001b[0m: name 'plt' is not defined"
          ]
        }
      ]
    },
    {
      "metadata": {
        "id": "I3yJGbYEfGMN",
        "colab_type": "text"
      },
      "cell_type": "markdown",
      "source": [
        "Validation accuracy ~ 96%\n",
        "\n",
        "### Fine-tuning\n",
        "\n"
      ]
    },
    {
      "metadata": {
        "id": "HrKu-ocIJ30s",
        "colab_type": "code",
        "colab": {
          "autoexec": {
            "startup": false,
            "wait_interval": 0
          }
        }
      },
      "cell_type": "code",
      "source": [
        ""
      ],
      "execution_count": 0,
      "outputs": []
    }
  ]
}