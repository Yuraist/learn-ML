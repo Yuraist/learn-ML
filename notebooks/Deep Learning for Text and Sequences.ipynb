{
  "nbformat": 4,
  "nbformat_minor": 0,
  "metadata": {
    "colab": {
      "name": "Deep Learning for Text and Sequences",
      "version": "0.3.2",
      "views": {},
      "default_view": {},
      "provenance": [],
      "collapsed_sections": []
    },
    "kernelspec": {
      "name": "python3",
      "display_name": "Python 3"
    },
    "accelerator": "GPU"
  },
  "cells": [
    {
      "metadata": {
        "id": "z_ewbvmkalwC",
        "colab_type": "text"
      },
      "cell_type": "markdown",
      "source": [
        "# Deep Learning for Text and Sequences\n",
        "\n",
        "The two fundamental deep-learning algorithms for sequences processing are recurrent neural networks and 1D convnets, the one-dimensional version of 2D convnets.\n",
        "\n",
        "Applications of these algorithms include the following:\n",
        "* Document classification and timeseries classification, such as identifying the topic of an article or the author of a book\n",
        "* Timeseries comparisons, such as estimating how closely related two documents or two stock tickers are\n",
        "* Sequence-to-sequence learning, such as decoding an English sentence into French\n",
        "* Sentiment analysis, such as classifying the sentiment of tweets or movie reviews as positive or negative\n",
        "* Timeseries forecasting, such as predicting the future weather at a certain location, given recent weather data\n",
        "\n",
        "## Working with text data\n",
        "\n",
        "Like all other neural networks, deep-learning models don't take as input raw text: they only work with numeric tensors. Vectorizing text is the process of transforming text into numeric tensors. This can be done in multiple ways:\n",
        "* Segment text into words, and transform each word into a vector \n",
        "* Segment text into characters, and each character into a vector\n",
        "* Extract n-grams of words or characters, and transform each n-gram into a vector. N-grams are overlapping groups of multiple consecutive words or characters. \n",
        "\n",
        "Collectively, the different units into which you can break down text (words, characters, n-grams) are called _tokens_, and breaking text into such tokens is called _tokenization_. All text-vectorization processes consist of applying some tokenization scheme and then associating numeric vectors with the generated tokens.\n",
        "\n",
        "### One-hot encoding of words and characters\n",
        "\n",
        "One-hot encoding is the most common, most basic way to turn a token into a vector. It consists of associationg a unique integer index with every word and then turning this integer index i into a binary vector of size N (the size of vocabulary); the vector is all zeros except for the ith entry, which is 1. \n",
        "\n",
        "#### Word-level one-hot encoding"
      ]
    },
    {
      "metadata": {
        "id": "VcsCwlFnafib",
        "colab_type": "code",
        "colab": {
          "autoexec": {
            "startup": false,
            "wait_interval": 0
          }
        }
      },
      "cell_type": "code",
      "source": [
        "import numpy as np\n",
        "\n",
        "samples = ['The cat sat on the mat.', 'The dog ate my homework.']\n",
        "\n",
        "token_index = {}\n",
        "for sample in samples:\n",
        "  for word in sample.split():\n",
        "    if word not in token_index:\n",
        "      token_index[word] = len(token_index) + 1\n",
        "      \n",
        "max_length = 10\n",
        "\n",
        "results = np.zeros(shape=(len(samples),\n",
        "                         max_length, \n",
        "                         max(token_index.values()) + 1))\n",
        "\n",
        "for i, sample in enumerate(samples):\n",
        "  for j, word in list(enumerate(sample.split()))[:max_length]:\n",
        "    index = token_index.get(word)  \n",
        "    results[i, j, index] = 1."
      ],
      "execution_count": 0,
      "outputs": []
    },
    {
      "metadata": {
        "id": "03jHOGVBgh4-",
        "colab_type": "text"
      },
      "cell_type": "markdown",
      "source": [
        "#### Using Keras for word-level one-hot encoding"
      ]
    },
    {
      "metadata": {
        "id": "9rSW646Wf9uu",
        "colab_type": "code",
        "colab": {
          "autoexec": {
            "startup": false,
            "wait_interval": 0
          },
          "base_uri": "https://localhost:8080/",
          "height": 51
        },
        "outputId": "84a49fb5-5726-48ad-8b0f-27813a23be06",
        "executionInfo": {
          "status": "ok",
          "timestamp": 1526653938386,
          "user_tz": -180,
          "elapsed": 7871,
          "user": {
            "displayName": "Юрий Истомин",
            "photoUrl": "//lh3.googleusercontent.com/-Nypt7K0lj_Q/AAAAAAAAAAI/AAAAAAAAIiA/wQd3WoLxAjA/s50-c-k-no/photo.jpg",
            "userId": "111110306008352060198"
          }
        }
      },
      "cell_type": "code",
      "source": [
        "from keras.preprocessing.text import Tokenizer\n",
        "\n",
        "samples = ['The cat sat on the mat.', 'The dog ate my homework.']\n",
        "\n",
        "tokenizer = Tokenizer(num_words=1000)\n",
        "# Build the word index\n",
        "tokenizer.fit_on_texts(samples)\n",
        "\n",
        "# Turn strings into lists of integer indices\n",
        "sequence = tokenizer.texts_to_sequences(samples)\n",
        "\n",
        "one_hot_results = tokenizer.texts_to_matrix(samples, mode='binary')\n",
        "\n",
        "word_index = tokenizer.word_index\n",
        "print('Found {} unique tokerns.'.format(len(word_index)))"
      ],
      "execution_count": 2,
      "outputs": [
        {
          "output_type": "stream",
          "text": [
            "Using TensorFlow backend.\n"
          ],
          "name": "stderr"
        },
        {
          "output_type": "stream",
          "text": [
            "Found 9 unique tokerns.\n"
          ],
          "name": "stdout"
        }
      ]
    },
    {
      "metadata": {
        "id": "L0SMyV7k8LlJ",
        "colab_type": "text"
      },
      "cell_type": "markdown",
      "source": [
        "### Using word embeddings\n",
        "\n",
        "Another popular and powerful way to associate a vector with a word is the use of dense word vectors, also called word embeddings. Word embeddings are low-dimenional floating-point vectors. Unlike the word vectors obtained via one-hot encoding, word embeddings are learned from data. Word embeddings pack more information into far fewer dimensions. \n",
        "\n",
        "| One-hot | Word embeddings |\n",
        "| ----- | -----|\n",
        "| Sparse | Dense |\n",
        "| High-dimensional | Lower-dimensional |\n",
        "| Hardcoded | Learned form data |\n",
        "\n",
        "There are two ways to obtain word embeddings:\n",
        "* Learn word embeddings jointly with the main task you care about. In this setup, you start with random word vectors and then learn word vectors in the same way you learn the weights of a neural network\n",
        "* Load into your model word embeddings that were precomputed using a different machine-learning task than the one you're trying to solve. These are called pretrained word embeddings. \n",
        "\n",
        "#### Instatntiating an `Embedding` layer"
      ]
    },
    {
      "metadata": {
        "id": "qaXyjaJohKdQ",
        "colab_type": "code",
        "colab": {
          "autoexec": {
            "startup": false,
            "wait_interval": 0
          }
        }
      },
      "cell_type": "code",
      "source": [
        "from keras.layers import Embedding\n",
        "\n",
        "# The Embedding layer takes at least two argumentss: \n",
        "# the number of possible tokens and \n",
        "# the dimensionality of the embeddings\n",
        "embedding_layer = Embedding(1000, 64)"
      ],
      "execution_count": 0,
      "outputs": []
    },
    {
      "metadata": {
        "id": "I7zUf2-5AgoB",
        "colab_type": "text"
      },
      "cell_type": "markdown",
      "source": [
        "The `Embedding` layer takes as input a 2D tensor of integers, of shape `(samples, sequence_length)`, where each entry is a sequence of integers. \n",
        "\n",
        "This layer returns a 3D floating-point tensor of shape `(samples, sequence_length, embedding_dimensionality)`. Such a 3D tensor can then be processed by an RNN layer or a 1D convolutional layer.\n",
        "\n",
        "#### Loading the IMDB data for use with an Embedding layer"
      ]
    },
    {
      "metadata": {
        "id": "YBbbbx1OAe8Q",
        "colab_type": "code",
        "colab": {
          "autoexec": {
            "startup": false,
            "wait_interval": 0
          },
          "base_uri": "https://localhost:8080/",
          "height": 71
        },
        "outputId": "31eb2224-be4f-418b-bf2f-cc81a415e661",
        "executionInfo": {
          "status": "ok",
          "timestamp": 1526653949260,
          "user_tz": -180,
          "elapsed": 9668,
          "user": {
            "displayName": "Юрий Истомин",
            "photoUrl": "//lh3.googleusercontent.com/-Nypt7K0lj_Q/AAAAAAAAAAI/AAAAAAAAIiA/wQd3WoLxAjA/s50-c-k-no/photo.jpg",
            "userId": "111110306008352060198"
          }
        }
      },
      "cell_type": "code",
      "source": [
        "from keras.datasets import imdb\n",
        "from keras import preprocessing\n",
        "\n",
        "# Number of words to consider as features\n",
        "max_features = 10000\n",
        "# Cut off the text after this number of words\n",
        "maxlen = 20\n",
        "\n",
        "# Load the data as lists of integers\n",
        "(x_train, y_train), (x_test, y_test) = imdb.load_data(\n",
        "    num_words=max_features)\n",
        "\n",
        "# Turn  the lists of integers into a 2D integer tensor of shape (samples, maxlen)\n",
        "x_train = preprocessing.sequence.pad_sequences(x_train, maxlen=maxlen)\n",
        "x_test = preprocessing.sequence.pad_sequences(x_test, maxlen=maxlen)"
      ],
      "execution_count": 4,
      "outputs": [
        {
          "output_type": "stream",
          "text": [
            "Downloading data from https://s3.amazonaws.com/text-datasets/imdb.npz\n",
            "17465344/17464789 [==============================] - 3s 0us/step\n"
          ],
          "name": "stdout"
        }
      ]
    },
    {
      "metadata": {
        "id": "dQ2oXdRSCm2X",
        "colab_type": "text"
      },
      "cell_type": "markdown",
      "source": [
        "#### Using an `Embedding` layer and classifie on the IMDB data"
      ]
    },
    {
      "metadata": {
        "id": "dy7J05saCgXb",
        "colab_type": "code",
        "colab": {
          "autoexec": {
            "startup": false,
            "wait_interval": 0
          }
        }
      },
      "cell_type": "code",
      "source": [
        "from keras.models import Sequential \n",
        "from keras.layers import Flatten, Dense \n",
        "\n",
        "model = Sequential()\n",
        "# Specify the maximum input length to the Embedding later\n",
        "# so you can later flatten the embedded inputs. \n",
        "# After the Embedding layer, the activations have shape (samples, mexlen, 8)\n",
        "model.add(Embedding(10000, 8, input_length=maxlen))\n",
        "# Flatten the 3D tensor of embeddings into a 2D tensor \n",
        "# of shape (samples, maxlen * 8)\n",
        "model.add(Flatten())\n",
        "# Add the classifier on top\n",
        "model.add(Dense(1, activation='sigmoid'))"
      ],
      "execution_count": 0,
      "outputs": []
    },
    {
      "metadata": {
        "id": "IJVU4mk_Doc_",
        "colab_type": "code",
        "colab": {
          "autoexec": {
            "startup": false,
            "wait_interval": 0
          },
          "base_uri": "https://localhost:8080/",
          "height": 238
        },
        "outputId": "a5ab060a-916c-4e75-975b-6910f7dfbcc3",
        "executionInfo": {
          "status": "ok",
          "timestamp": 1526653950983,
          "user_tz": -180,
          "elapsed": 640,
          "user": {
            "displayName": "Юрий Истомин",
            "photoUrl": "//lh3.googleusercontent.com/-Nypt7K0lj_Q/AAAAAAAAAAI/AAAAAAAAIiA/wQd3WoLxAjA/s50-c-k-no/photo.jpg",
            "userId": "111110306008352060198"
          }
        }
      },
      "cell_type": "code",
      "source": [
        "model.compile(optimizer='rmsprop', loss='binary_crossentropy', metrics=['acc'])\n",
        "model.summary()"
      ],
      "execution_count": 6,
      "outputs": [
        {
          "output_type": "stream",
          "text": [
            "_________________________________________________________________\n",
            "Layer (type)                 Output Shape              Param #   \n",
            "=================================================================\n",
            "embedding_2 (Embedding)      (None, 20, 8)             80000     \n",
            "_________________________________________________________________\n",
            "flatten_1 (Flatten)          (None, 160)               0         \n",
            "_________________________________________________________________\n",
            "dense_1 (Dense)              (None, 1)                 161       \n",
            "=================================================================\n",
            "Total params: 80,161\n",
            "Trainable params: 80,161\n",
            "Non-trainable params: 0\n",
            "_________________________________________________________________\n"
          ],
          "name": "stdout"
        }
      ]
    },
    {
      "metadata": {
        "id": "3DYKJsB7DpxU",
        "colab_type": "code",
        "colab": {
          "autoexec": {
            "startup": false,
            "wait_interval": 0
          },
          "base_uri": "https://localhost:8080/",
          "height": 394
        },
        "outputId": "1a9c72cc-531f-4cb6-8c6a-5e3ad83feff2",
        "executionInfo": {
          "status": "ok",
          "timestamp": 1526653992923,
          "user_tz": -180,
          "elapsed": 41694,
          "user": {
            "displayName": "Юрий Истомин",
            "photoUrl": "//lh3.googleusercontent.com/-Nypt7K0lj_Q/AAAAAAAAAAI/AAAAAAAAIiA/wQd3WoLxAjA/s50-c-k-no/photo.jpg",
            "userId": "111110306008352060198"
          }
        }
      },
      "cell_type": "code",
      "source": [
        "history = model.fit(x_train, y_train, \n",
        "                   epochs=10,\n",
        "                   batch_size=32, \n",
        "                   validation_split=0.2)"
      ],
      "execution_count": 7,
      "outputs": [
        {
          "output_type": "stream",
          "text": [
            "Train on 20000 samples, validate on 5000 samples\n",
            "Epoch 1/10\n",
            "20000/20000 [==============================] - 5s 247us/step - loss: 0.6759 - acc: 0.6050 - val_loss: 0.6398 - val_acc: 0.6814\n",
            "Epoch 2/10\n",
            "20000/20000 [==============================] - 4s 202us/step - loss: 0.5657 - acc: 0.7427 - val_loss: 0.5467 - val_acc: 0.7206\n",
            "Epoch 3/10\n",
            "20000/20000 [==============================] - 4s 203us/step - loss: 0.4752 - acc: 0.7808 - val_loss: 0.5113 - val_acc: 0.7384\n",
            "Epoch 4/10\n",
            "19744/20000 [============================>.] - ETA: 0s - loss: 0.4267 - acc: 0.8077"
          ],
          "name": "stdout"
        },
        {
          "output_type": "stream",
          "text": [
            "20000/20000 [==============================] - 4s 203us/step - loss: 0.4263 - acc: 0.8077 - val_loss: 0.5008 - val_acc: 0.7452\n",
            "Epoch 5/10\n",
            "20000/20000 [==============================] - 4s 202us/step - loss: 0.3930 - acc: 0.8258 - val_loss: 0.4981 - val_acc: 0.7538\n",
            "Epoch 6/10\n",
            "20000/20000 [==============================] - 4s 197us/step - loss: 0.3668 - acc: 0.8395 - val_loss: 0.5014 - val_acc: 0.7530\n",
            "Epoch 7/10\n",
            "20000/20000 [==============================] - 4s 199us/step - loss: 0.3435 - acc: 0.8533 - val_loss: 0.5052 - val_acc: 0.7520\n",
            "Epoch 8/10\n",
            "10848/20000 [===============>..............] - ETA: 1s - loss: 0.3204 - acc: 0.8683"
          ],
          "name": "stdout"
        },
        {
          "output_type": "stream",
          "text": [
            "20000/20000 [==============================] - 4s 203us/step - loss: 0.3223 - acc: 0.8657 - val_loss: 0.5132 - val_acc: 0.7486\n",
            "Epoch 9/10\n",
            "20000/20000 [==============================] - 4s 202us/step - loss: 0.3022 - acc: 0.8766 - val_loss: 0.5213 - val_acc: 0.7490\n",
            "Epoch 10/10\n",
            "20000/20000 [==============================] - 4s 197us/step - loss: 0.2839 - acc: 0.8860 - val_loss: 0.5303 - val_acc: 0.7466\n"
          ],
          "name": "stdout"
        }
      ]
    },
    {
      "metadata": {
        "id": "lipm7secILX0",
        "colab_type": "text"
      },
      "cell_type": "markdown",
      "source": [
        "#### Using pretrained word embeddings\n",
        "\n",
        "Sometimes, you have so little training data available that you can’t use your data alone to learn an appropriate task-specific embedding of your vocabulary. What do you do then?\n",
        "\n",
        "Instead of learning word embeddings jointly with the problem you want to solve, you can load embedding vectors from a precomputed embedding space that you know is highly structured and exhibits useful properties—that captures generic aspects of language structure. The rationale behind using pretrained word embed- dings in natural-language processing is much the same as for using pretrained conv- nets in image classification: you don’t have enough data available to learn truly powerful features on your own, but you expect the features that you need to be fairly generic—that is, common visual features or semantic features. In this case, it makes sense to reuse features learned on a different problem.\n",
        "\n",
        "### From raw text to word embeddings\n",
        "\n",
        "#### Downloading the IMDB data as raw text and process the labels of the data"
      ]
    },
    {
      "metadata": {
        "id": "kYeVtyg0DyIh",
        "colab_type": "code",
        "colab": {
          "autoexec": {
            "startup": false,
            "wait_interval": 0
          },
          "base_uri": "https://localhost:8080/",
          "height": 153
        },
        "outputId": "0433d00c-7807-4d9a-a873-801b07812131",
        "executionInfo": {
          "status": "ok",
          "timestamp": 1526654402472,
          "user_tz": -180,
          "elapsed": 409510,
          "user": {
            "displayName": "Юрий Истомин",
            "photoUrl": "//lh3.googleusercontent.com/-Nypt7K0lj_Q/AAAAAAAAAAI/AAAAAAAAIiA/wQd3WoLxAjA/s50-c-k-no/photo.jpg",
            "userId": "111110306008352060198"
          }
        }
      },
      "cell_type": "code",
      "source": [
        "! git clone https://gitlab.com/Yuraist/ml-datasets\n",
        "! rm -r ml-datasets/cats_dogs"
      ],
      "execution_count": 8,
      "outputs": [
        {
          "output_type": "stream",
          "text": [
            "Cloning into 'ml-datasets'...\n",
            "warning: redirecting to https://gitlab.com/Yuraist/ml-datasets.git/\n",
            "remote: Counting objects: 87002, done.\u001b[K\n",
            "remote: Compressing objects: 100% (86989/86989), done.\u001b[K\n",
            "remote: Total 87002 (delta 8), reused 86993 (delta 7)\u001b[K\n",
            "Receiving objects: 100% (87002/87002), 1.62 GiB | 4.95 MiB/s, done.\n",
            "Resolving deltas: 100% (8/8), done.\n"
          ],
          "name": "stdout"
        },
        {
          "output_type": "stream",
          "text": [
            "Checking out files: 100% (87511/87511), done.\r\n"
          ],
          "name": "stdout"
        }
      ]
    },
    {
      "metadata": {
        "id": "fDdtiC77JufU",
        "colab_type": "code",
        "colab": {
          "autoexec": {
            "startup": false,
            "wait_interval": 0
          }
        }
      },
      "cell_type": "code",
      "source": [
        "import os\n",
        "\n",
        "imdb_dir = '/content/ml-datasets/aclImdb'\n",
        "train_dir = os.path.join(imdb_dir, 'train')\n",
        "\n",
        "labels = []\n",
        "texts = []\n",
        "\n",
        "for label_type in ['neg', 'pos']:\n",
        "  dir_name = os.path.join(train_dir, label_type)\n",
        "  for fname in os.listdir(dir_name):\n",
        "    if fname[-4:] == '.txt':\n",
        "      f = open(os.path.join(dir_name, fname))\n",
        "      texts.append(f.read())\n",
        "      f.close()\n",
        "      if label_type == 'neg':\n",
        "        labels.append(0)\n",
        "      else:\n",
        "        labels.append(1)"
      ],
      "execution_count": 0,
      "outputs": []
    },
    {
      "metadata": {
        "id": "5qp_U5fUNbkW",
        "colab_type": "text"
      },
      "cell_type": "markdown",
      "source": [
        "#### Tokenizing the text of the raw IMDB data"
      ]
    },
    {
      "metadata": {
        "id": "7Z0-f7StLzIH",
        "colab_type": "code",
        "colab": {
          "autoexec": {
            "startup": false,
            "wait_interval": 0
          },
          "base_uri": "https://localhost:8080/",
          "height": 68
        },
        "outputId": "7121dd01-30f7-43db-e58b-003d9ff7662a",
        "executionInfo": {
          "status": "ok",
          "timestamp": 1526654417224,
          "user_tz": -180,
          "elapsed": 10301,
          "user": {
            "displayName": "Юрий Истомин",
            "photoUrl": "//lh3.googleusercontent.com/-Nypt7K0lj_Q/AAAAAAAAAAI/AAAAAAAAIiA/wQd3WoLxAjA/s50-c-k-no/photo.jpg",
            "userId": "111110306008352060198"
          }
        }
      },
      "cell_type": "code",
      "source": [
        "from keras.preprocessing.text import Tokenizer\n",
        "from keras.preprocessing.sequence import pad_sequences\n",
        "import numpy as np\n",
        "\n",
        "# Cut off reviews after 100 words\n",
        "maxlen = 100\n",
        "# Train on 200 samples\n",
        "training_samples = 200\n",
        "# Validate on 10,000 samples\n",
        "validation_samples = 10000\n",
        "# Consider only the top 10000 words in the dataset \n",
        "max_words = 10000\n",
        "\n",
        "tokenizer = Tokenizer(num_words=max_words)\n",
        "tokenizer.fit_on_texts(texts)\n",
        "sequences = tokenizer.texts_to_sequences(texts)\n",
        "\n",
        "word_index = tokenizer.word_index\n",
        "print('Found %s unique tokens.' % len(word_index))\n",
        "\n",
        "data = pad_sequences(sequences, maxlen=maxlen)\n",
        "\n",
        "labels = np.asarray(labels)\n",
        "print('Shape of data tensor:', data.shape)\n",
        "print('Shape of label tensor:', labels.shape)\n",
        "\n",
        "# Split the data into a training set and a validation set, \n",
        "# but first shufflethe data.\n",
        "indices = np.arange(data.shape[0])\n",
        "np.random.shuffle(indices)\n",
        "data = data[indices]\n",
        "labels = labels[indices]\n",
        "\n",
        "x_train = data[:training_samples]\n",
        "y_train = labels[:training_samples]\n",
        "x_val = data[training_samples: training_samples + validation_samples]\n",
        "y_val = labels[training_samples: training_samples + validation_samples]"
      ],
      "execution_count": 10,
      "outputs": [
        {
          "output_type": "stream",
          "text": [
            "Found 88582 unique tokens.\n",
            "Shape of data tensor: (25000, 100)\n",
            "Shape of label tensor: (25000,)\n"
          ],
          "name": "stdout"
        }
      ]
    },
    {
      "metadata": {
        "id": "6jqz2qdXPyhm",
        "colab_type": "text"
      },
      "cell_type": "markdown",
      "source": [
        "#### Downloading the GloVe word embeddings and parsing the file"
      ]
    },
    {
      "metadata": {
        "id": "QcoPO-LVPifS",
        "colab_type": "code",
        "colab": {
          "autoexec": {
            "startup": false,
            "wait_interval": 0
          },
          "base_uri": "https://localhost:8080/",
          "height": 34
        },
        "outputId": "4d3024b4-7332-4f77-a711-e3daa9f46a93",
        "executionInfo": {
          "status": "ok",
          "timestamp": 1526654431180,
          "user_tz": -180,
          "elapsed": 13912,
          "user": {
            "displayName": "Юрий Истомин",
            "photoUrl": "//lh3.googleusercontent.com/-Nypt7K0lj_Q/AAAAAAAAAAI/AAAAAAAAIiA/wQd3WoLxAjA/s50-c-k-no/photo.jpg",
            "userId": "111110306008352060198"
          }
        }
      },
      "cell_type": "code",
      "source": [
        "glove_dir = '/content/ml-datasets/pretrained/glove.6B'\n",
        "\n",
        "embeddings_index = {}\n",
        "\n",
        "f = open(os.path.join(glove_dir, 'glove.6B.100d.txt'))\n",
        "for line in f:\n",
        "  values = line.split()\n",
        "  word = values[0]\n",
        "  coefs = np.asarray(values[1:], dtype='float32')\n",
        "  embeddings_index[word] = coefs\n",
        "  \n",
        "f.close()\n",
        "\n",
        "print('Found %s word vectors.' % len(embeddings_index))"
      ],
      "execution_count": 11,
      "outputs": [
        {
          "output_type": "stream",
          "text": [
            "Found 400001 word vectors.\n"
          ],
          "name": "stdout"
        }
      ]
    },
    {
      "metadata": {
        "id": "tfkkqPQvRYcG",
        "colab_type": "text"
      },
      "cell_type": "markdown",
      "source": [
        "#### Preparing the GloVe word-embeddings matrix"
      ]
    },
    {
      "metadata": {
        "id": "9-z7B14PRXOC",
        "colab_type": "code",
        "colab": {
          "autoexec": {
            "startup": false,
            "wait_interval": 0
          }
        }
      },
      "cell_type": "code",
      "source": [
        "embedding_dim = 100\n",
        "embedding_matrix = np.zeros((max_words, embedding_dim))\n",
        "\n",
        "for word, i in word_index.items():\n",
        "  if i < max_words:\n",
        "    embedding_vector = embeddings_index.get(word)\n",
        "    if embedding_vector is not None:\n",
        "      embedding_matrix[i] = embedding_vector "
      ],
      "execution_count": 0,
      "outputs": []
    },
    {
      "metadata": {
        "id": "xqjf1ogiRy-u",
        "colab_type": "text"
      },
      "cell_type": "markdown",
      "source": [
        "#### Model definition"
      ]
    },
    {
      "metadata": {
        "id": "ya1h0B2jRyhE",
        "colab_type": "code",
        "colab": {
          "autoexec": {
            "startup": false,
            "wait_interval": 0
          },
          "base_uri": "https://localhost:8080/",
          "height": 272
        },
        "outputId": "9ea74936-014a-4b03-c950-1f92f6f3b841",
        "executionInfo": {
          "status": "ok",
          "timestamp": 1526654576999,
          "user_tz": -180,
          "elapsed": 741,
          "user": {
            "displayName": "Юрий Истомин",
            "photoUrl": "//lh3.googleusercontent.com/-Nypt7K0lj_Q/AAAAAAAAAAI/AAAAAAAAIiA/wQd3WoLxAjA/s50-c-k-no/photo.jpg",
            "userId": "111110306008352060198"
          }
        }
      },
      "cell_type": "code",
      "source": [
        "from keras.models import Sequential \n",
        "from keras.layers import Embedding, Flatten, Dense\n",
        "\n",
        "model = Sequential()\n",
        "model.add(Embedding(max_words, embedding_dim, input_length=maxlen))\n",
        "model.add(Flatten())\n",
        "model.add(Dense(32, activation='relu'))\n",
        "model.add(Dense(1, activation='sigmoid'))\n",
        "model.summary()"
      ],
      "execution_count": 15,
      "outputs": [
        {
          "output_type": "stream",
          "text": [
            "_________________________________________________________________\n",
            "Layer (type)                 Output Shape              Param #   \n",
            "=================================================================\n",
            "embedding_3 (Embedding)      (None, 100, 100)          1000000   \n",
            "_________________________________________________________________\n",
            "flatten_2 (Flatten)          (None, 10000)             0         \n",
            "_________________________________________________________________\n",
            "dense_2 (Dense)              (None, 32)                320032    \n",
            "_________________________________________________________________\n",
            "dense_3 (Dense)              (None, 1)                 33        \n",
            "=================================================================\n",
            "Total params: 1,320,065\n",
            "Trainable params: 1,320,065\n",
            "Non-trainable params: 0\n",
            "_________________________________________________________________\n"
          ],
          "name": "stdout"
        }
      ]
    },
    {
      "metadata": {
        "id": "WJnkaJtzSzSM",
        "colab_type": "text"
      },
      "cell_type": "markdown",
      "source": [
        "#### Loading the GloVe embeddings in the model"
      ]
    },
    {
      "metadata": {
        "id": "-qIwaKQVS7rK",
        "colab_type": "code",
        "colab": {
          "autoexec": {
            "startup": false,
            "wait_interval": 0
          }
        }
      },
      "cell_type": "code",
      "source": [
        "model.layers[0].set_weights([embedding_matrix])\n",
        "model.layers[0].trainable = False"
      ],
      "execution_count": 0,
      "outputs": []
    },
    {
      "metadata": {
        "id": "i-7-nZQTTPNX",
        "colab_type": "text"
      },
      "cell_type": "markdown",
      "source": [
        "#### Training and evaluating the model"
      ]
    },
    {
      "metadata": {
        "id": "ayzm0p-VTRlu",
        "colab_type": "code",
        "colab": {
          "autoexec": {
            "startup": false,
            "wait_interval": 0
          },
          "base_uri": "https://localhost:8080/",
          "height": 394
        },
        "outputId": "450981cc-c2a4-495c-ce71-b3c3173e23c0",
        "executionInfo": {
          "status": "ok",
          "timestamp": 1526654589714,
          "user_tz": -180,
          "elapsed": 11080,
          "user": {
            "displayName": "Юрий Истомин",
            "photoUrl": "//lh3.googleusercontent.com/-Nypt7K0lj_Q/AAAAAAAAAAI/AAAAAAAAIiA/wQd3WoLxAjA/s50-c-k-no/photo.jpg",
            "userId": "111110306008352060198"
          }
        }
      },
      "cell_type": "code",
      "source": [
        "model.compile(optimizer='rmsprop',\n",
        "             loss='binary_crossentropy',\n",
        "             metrics=['acc'])\n",
        "\n",
        "history = model.fit(x_train, y_train,\n",
        "                   epochs=10,\n",
        "                   batch_size=32, \n",
        "                   validation_data=(x_val, y_val))\n",
        "\n",
        "model.save_weights('pre_trained_glove_model.h5')"
      ],
      "execution_count": 17,
      "outputs": [
        {
          "output_type": "stream",
          "text": [
            "Train on 200 samples, validate on 10000 samples\n",
            "Epoch 1/10\n",
            "200/200 [==============================] - 1s 5ms/step - loss: 1.6346 - acc: 0.5300 - val_loss: 0.6938 - val_acc: 0.5043\n",
            "Epoch 2/10\n",
            "200/200 [==============================] - 1s 5ms/step - loss: 0.5977 - acc: 0.6550 - val_loss: 0.6935 - val_acc: 0.5241\n",
            "Epoch 3/10\n",
            "200/200 [==============================] - 1s 5ms/step - loss: 0.5495 - acc: 0.7650 - val_loss: 0.6986 - val_acc: 0.5446\n",
            "Epoch 4/10\n",
            "200/200 [==============================] - 1s 5ms/step - loss: 0.3602 - acc: 0.8650 - val_loss: 0.7263 - val_acc: 0.5448\n",
            "Epoch 5/10\n",
            "200/200 [==============================] - 1s 5ms/step - loss: 0.4523 - acc: 0.7850 - val_loss: 0.6933 - val_acc: 0.5613\n",
            "Epoch 6/10\n",
            "200/200 [==============================] - 1s 5ms/step - loss: 0.1387 - acc: 0.9950 - val_loss: 0.8181 - val_acc: 0.5499\n",
            "Epoch 7/10\n",
            "200/200 [==============================] - 1s 5ms/step - loss: 0.3528 - acc: 0.8600 - val_loss: 0.7255 - val_acc: 0.5700\n",
            "Epoch 8/10\n",
            "200/200 [==============================] - 1s 5ms/step - loss: 0.0596 - acc: 1.0000 - val_loss: 0.8856 - val_acc: 0.5327\n",
            "Epoch 9/10\n",
            "200/200 [==============================] - 1s 5ms/step - loss: 0.0373 - acc: 1.0000 - val_loss: 1.1043 - val_acc: 0.5193\n",
            "Epoch 10/10\n",
            "200/200 [==============================] - 1s 5ms/step - loss: 0.1934 - acc: 0.9450 - val_loss: 1.7729 - val_acc: 0.5093\n"
          ],
          "name": "stdout"
        }
      ]
    },
    {
      "metadata": {
        "id": "gOuJ1QMETnIF",
        "colab_type": "text"
      },
      "cell_type": "markdown",
      "source": [
        "#### Plotting the results"
      ]
    },
    {
      "metadata": {
        "id": "EFWfIesFToWW",
        "colab_type": "code",
        "colab": {
          "autoexec": {
            "startup": false,
            "wait_interval": 0
          },
          "base_uri": "https://localhost:8080/",
          "height": 761
        },
        "outputId": "ca305303-d8e3-48e7-eaf0-3bc86001a6de",
        "executionInfo": {
          "status": "ok",
          "timestamp": 1526654620062,
          "user_tz": -180,
          "elapsed": 1009,
          "user": {
            "displayName": "Юрий Истомин",
            "photoUrl": "//lh3.googleusercontent.com/-Nypt7K0lj_Q/AAAAAAAAAAI/AAAAAAAAIiA/wQd3WoLxAjA/s50-c-k-no/photo.jpg",
            "userId": "111110306008352060198"
          }
        }
      },
      "cell_type": "code",
      "source": [
        "import matplotlib.pyplot as plt\n",
        "\n",
        "% matplotlib inline\n",
        "\n",
        "acc = history.history['acc']\n",
        "val_acc = history.history['val_acc']\n",
        "loss = history.history['loss']\n",
        "val_loss = history.history['val_loss']\n",
        "\n",
        "epochs = range(1, len(acc) + 1)\n",
        "\n",
        "plt.figure(figsize=(9, 6))\n",
        "\n",
        "plt.plot(epochs, acc, 'bo', label='Training acc')\n",
        "plt.plot(epochs, val_acc, 'b', label='Validation acc')\n",
        "plt.title('Training and validation accuracy')\n",
        "plt.legend()\n",
        "\n",
        "\n",
        "plt.figure(figsize=(9, 6))\n",
        "\n",
        "plt.plot(epochs, loss, 'bo', label='Training loss')\n",
        "plt.plot(epochs, val_loss, 'b', label='Validation loss')\n",
        "plt.title('Training and validation loss')\n",
        "plt.legend()\n",
        "\n",
        "plt.show()"
      ],
      "execution_count": 20,
      "outputs": [
        {
          "output_type": "display_data",
          "data": {
            "image/png": "[encoded data removed]",
            "text/plain": [
              "<matplotlib.figure.Figure at 0x7fe310661898>"
            ]
          },
          "metadata": {
            "tags": []
          }
        },
        {
          "output_type": "display_data",
          "data": {
            "image/png": "[encoded data removed]",
            "text/plain": [
              "<matplotlib.figure.Figure at 0x7fe30dba90b8>"
            ]
          },
          "metadata": {
            "tags": []
          }
        }
      ]
    },
    {
      "metadata": {
        "id": "fxt-kjcAsU4j",
        "colab_type": "text"
      },
      "cell_type": "markdown",
      "source": [
        "You can also train the same model without loading the pretrained word embeddings and without freezing the embedding layer. In that case, you'll learn a task-specific embedding of the input tokens, which is generally more powerful that pretrained word embeddings when lots of data is available. \n",
        "\n",
        "#### Training the same model without pretrained word embeddings"
      ]
    },
    {
      "metadata": {
        "id": "fZTIwo3ns3fZ",
        "colab_type": "code",
        "colab": {
          "autoexec": {
            "startup": false,
            "wait_interval": 0
          },
          "base_uri": "https://localhost:8080/",
          "height": 649
        },
        "outputId": "76e2f549-032a-4045-ffff-a0132c2a14e2",
        "executionInfo": {
          "status": "ok",
          "timestamp": 1526654827568,
          "user_tz": -180,
          "elapsed": 11187,
          "user": {
            "displayName": "Юрий Истомин",
            "photoUrl": "//lh3.googleusercontent.com/-Nypt7K0lj_Q/AAAAAAAAAAI/AAAAAAAAIiA/wQd3WoLxAjA/s50-c-k-no/photo.jpg",
            "userId": "111110306008352060198"
          }
        }
      },
      "cell_type": "code",
      "source": [
        "from keras.models import Sequential\n",
        "from keras.layers import Embedding, Flatten, Dense\n",
        "\n",
        "model = Sequential()\n",
        "model.add(Embedding(max_words, embedding_dim, input_length=maxlen))\n",
        "model.add(Flatten())\n",
        "model.add(Dense(32, activation='relu'))\n",
        "model.add(Dense(1, activation='sigmoid'))\n",
        "model.summary()\n",
        "\n",
        "model.compile(optimizer='rmsprop',\n",
        "             loss='binary_crossentropy',\n",
        "             metrics=['acc'])\n",
        "\n",
        "history = model.fit(x_train, y_train,\n",
        "                   epochs=10, \n",
        "                   batch_size=32,\n",
        "                   validation_data=(x_val, y_val))"
      ],
      "execution_count": 21,
      "outputs": [
        {
          "output_type": "stream",
          "text": [
            "_________________________________________________________________\n",
            "Layer (type)                 Output Shape              Param #   \n",
            "=================================================================\n",
            "embedding_4 (Embedding)      (None, 100, 100)          1000000   \n",
            "_________________________________________________________________\n",
            "flatten_3 (Flatten)          (None, 10000)             0         \n",
            "_________________________________________________________________\n",
            "dense_4 (Dense)              (None, 32)                320032    \n",
            "_________________________________________________________________\n",
            "dense_5 (Dense)              (None, 1)                 33        \n",
            "=================================================================\n",
            "Total params: 1,320,065\n",
            "Trainable params: 1,320,065\n",
            "Non-trainable params: 0\n",
            "_________________________________________________________________\n",
            "Train on 200 samples, validate on 10000 samples\n",
            "Epoch 1/10\n",
            "200/200 [==============================] - 1s 6ms/step - loss: 0.6873 - acc: 0.5150 - val_loss: 0.7006 - val_acc: 0.5236\n",
            "Epoch 2/10\n",
            "200/200 [==============================] - 1s 5ms/step - loss: 0.4776 - acc: 0.9750 - val_loss: 0.7069 - val_acc: 0.5203\n",
            "Epoch 3/10\n",
            "200/200 [==============================] - 1s 5ms/step - loss: 0.2621 - acc: 0.9900 - val_loss: 0.7199 - val_acc: 0.5220\n",
            "Epoch 4/10\n",
            "200/200 [==============================] - 1s 5ms/step - loss: 0.1098 - acc: 1.0000 - val_loss: 0.7166 - val_acc: 0.5224\n",
            "Epoch 5/10\n",
            "200/200 [==============================] - 1s 5ms/step - loss: 0.0500 - acc: 1.0000 - val_loss: 0.7225 - val_acc: 0.5231\n",
            "Epoch 6/10\n",
            "200/200 [==============================] - 1s 5ms/step - loss: 0.0254 - acc: 1.0000 - val_loss: 0.7418 - val_acc: 0.5211\n",
            "Epoch 7/10\n",
            "200/200 [==============================] - 1s 5ms/step - loss: 0.0141 - acc: 1.0000 - val_loss: 0.7347 - val_acc: 0.5230\n",
            "Epoch 8/10\n",
            "200/200 [==============================] - 1s 5ms/step - loss: 0.0082 - acc: 1.0000 - val_loss: 0.7256 - val_acc: 0.5209\n",
            "Epoch 9/10\n",
            "200/200 [==============================] - 1s 5ms/step - loss: 0.0051 - acc: 1.0000 - val_loss: 0.7483 - val_acc: 0.5224\n",
            "Epoch 10/10\n",
            "200/200 [==============================] - 1s 5ms/step - loss: 0.0029 - acc: 1.0000 - val_loss: 0.7691 - val_acc: 0.5209\n"
          ],
          "name": "stdout"
        }
      ]
    },
    {
      "metadata": {
        "id": "GfBF5O2jt9At",
        "colab_type": "code",
        "colab": {
          "autoexec": {
            "startup": false,
            "wait_interval": 0
          },
          "base_uri": "https://localhost:8080/",
          "height": 761
        },
        "outputId": "b5001d3d-d2ce-4599-b11a-8c0c1e35fc02",
        "executionInfo": {
          "status": "ok",
          "timestamp": 1526654833434,
          "user_tz": -180,
          "elapsed": 2086,
          "user": {
            "displayName": "Юрий Истомин",
            "photoUrl": "//lh3.googleusercontent.com/-Nypt7K0lj_Q/AAAAAAAAAAI/AAAAAAAAIiA/wQd3WoLxAjA/s50-c-k-no/photo.jpg",
            "userId": "111110306008352060198"
          }
        }
      },
      "cell_type": "code",
      "source": [
        "import matplotlib.pyplot as plt\n",
        "\n",
        "% matplotlib inline\n",
        "\n",
        "acc = history.history['acc']\n",
        "val_acc = history.history['val_acc']\n",
        "loss = history.history['loss']\n",
        "val_loss = history.history['val_loss']\n",
        "\n",
        "epochs = range(1, len(acc) + 1)\n",
        "\n",
        "plt.figure(figsize=(9, 6))\n",
        "\n",
        "plt.plot(epochs, acc, 'bo', label='Training acc')\n",
        "plt.plot(epochs, val_acc, 'b', label='Validation acc')\n",
        "plt.title('Training and validation accuracy')\n",
        "plt.legend()\n",
        "\n",
        "\n",
        "plt.figure(figsize=(9, 6))\n",
        "\n",
        "plt.plot(epochs, loss, 'bo', label='Training loss')\n",
        "plt.plot(epochs, val_loss, 'b', label='Validation loss')\n",
        "plt.title('Training and validation loss')\n",
        "plt.legend()\n",
        "\n",
        "plt.show()"
      ],
      "execution_count": 22,
      "outputs": [
        {
          "output_type": "display_data",
          "data": {
            "image/png": "[encoded data removed]",
            "text/plain": [
              "<matplotlib.figure.Figure at 0x7fe30d514dd8>"
            ]
          },
          "metadata": {
            "tags": []
          }
        },
        {
          "output_type": "display_data",
          "data": {
            "image/png": "[encoded data removed]",
            "text/plain": [
              "<matplotlib.figure.Figure at 0x7fe30d576c18>"
            ]
          },
          "metadata": {
            "tags": []
          }
        }
      ]
    },
    {
      "metadata": {
        "id": "u3RI6OCUueze",
        "colab_type": "text"
      },
      "cell_type": "markdown",
      "source": [
        "#### Evatluating the model on the test set"
      ]
    },
    {
      "metadata": {
        "id": "cGRMj12zuAqd",
        "colab_type": "code",
        "colab": {
          "autoexec": {
            "startup": false,
            "wait_interval": 0
          }
        }
      },
      "cell_type": "code",
      "source": [
        "# tokenizing the data of the test set\n",
        "\n",
        "test_dir = os.path.join(imdb_dir, 'test')\n",
        "\n",
        "labels = []\n",
        "texts = []\n",
        "\n",
        "for label_type in ['neg', 'pos']:\n",
        "  dir_name = os.path.join(test_dir, label_type)\n",
        "  for fname in sorted(os.listdir(dir_name)):\n",
        "    if fname[-4:] == '.txt':\n",
        "      f = open(os.path.join(dir_name, fname))\n",
        "      texts.append(f.read())\n",
        "      f.close()\n",
        "      if label_type == 'neg':\n",
        "        labels.append(0)\n",
        "      else:\n",
        "        labels.append(1)\n",
        "      \n",
        "sequences = tokenizer.texts_to_sequences(texts)\n",
        "x_test = pad_sequences(sequences, maxlen=maxlen)\n",
        "y_test = np.asarray(labels)"
      ],
      "execution_count": 0,
      "outputs": []
    },
    {
      "metadata": {
        "id": "wx490wANvTJL",
        "colab_type": "code",
        "colab": {
          "autoexec": {
            "startup": false,
            "wait_interval": 0
          },
          "base_uri": "https://localhost:8080/",
          "height": 51
        },
        "outputId": "d3d1dd99-f713-4474-d100-70f3f182303b",
        "executionInfo": {
          "status": "ok",
          "timestamp": 1526655254642,
          "user_tz": -180,
          "elapsed": 3112,
          "user": {
            "displayName": "Юрий Истомин",
            "photoUrl": "//lh3.googleusercontent.com/-Nypt7K0lj_Q/AAAAAAAAAAI/AAAAAAAAIiA/wQd3WoLxAjA/s50-c-k-no/photo.jpg",
            "userId": "111110306008352060198"
          }
        }
      },
      "cell_type": "code",
      "source": [
        "model.load_weights('pre_trained_glove_model.h5')\n",
        "model.evaluate(x_test, y_test)"
      ],
      "execution_count": 25,
      "outputs": [
        {
          "output_type": "stream",
          "text": [
            "25000/25000 [==============================] - 2s 97us/step\n"
          ],
          "name": "stdout"
        },
        {
          "output_type": "execute_result",
          "data": {
            "text/plain": [
              "[1.8037889373612404, 0.50552]"
            ]
          },
          "metadata": {
            "tags": []
          },
          "execution_count": 25
        }
      ]
    },
    {
      "metadata": {
        "id": "NrSi2lTQvahV",
        "colab_type": "code",
        "colab": {
          "autoexec": {
            "startup": false,
            "wait_interval": 0
          }
        }
      },
      "cell_type": "code",
      "source": [
        ""
      ],
      "execution_count": 0,
      "outputs": []
    }
  ]
}