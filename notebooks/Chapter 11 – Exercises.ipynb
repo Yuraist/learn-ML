{
 "cells": [
  {
   "cell_type": "markdown",
   "metadata": {},
   "source": [
    "# Deep Learning\n",
    "\n",
    "1. Build a DNN with __five hidden layers__ of __100 neurons__ each, __He initialization__, and the __ELU__ activation function.\n",
    "2. Using __Adam optimization__ and __early stopping__, try training it on MNIST but only on digits 0 to 4, as we will use transfer learning for digits 5 to 9 in the next exercise. You will need a __softmax output layer__ with __five neurons__, and as always make sure to _save checkpoints_ at regular intervals and save the final model so you can reuse it later.\n",
    "3. Tune the hyperparameters using __cross-validation__ and see what precision you can achieve.\n",
    "4. Now try adding __Batch Normalization__ and compare the learning curves: is it converging faster than before? Does it produce a better model?\n",
    "5. Is the model overfitting the training set? Try adding dropout to every layer and try again. Does it help?"
   ]
  },
  {
   "cell_type": "code",
   "execution_count": 11,
   "metadata": {},
   "outputs": [],
   "source": [
    "import tensorflow as tf\n",
    "import numpy as np"
   ]
  },
  {
   "cell_type": "code",
   "execution_count": 12,
   "metadata": {},
   "outputs": [],
   "source": [
    "n_inputs = 28*28 # MNIST data set\n",
    "n_hidden1 = 100\n",
    "n_hidden2 = 100\n",
    "n_hidden3 = 100\n",
    "n_hidden4 = 100\n",
    "n_hidden5 = 100\n",
    "n_outputs = 5 # digits from 0 to 4 and from 5 to 9"
   ]
  },
  {
   "cell_type": "code",
   "execution_count": 13,
   "metadata": {},
   "outputs": [],
   "source": [
    "X = tf.placeholder(tf.float32, shape=(None, 784), name='X')\n",
    "y = tf.placeholder(tf.int64, shape=(None), name='y')"
   ]
  },
  {
   "cell_type": "markdown",
   "metadata": {},
   "source": [
    "### Neuron layer"
   ]
  },
  {
   "cell_type": "code",
   "execution_count": 14,
   "metadata": {},
   "outputs": [],
   "source": [
    "from tensorflow.contrib.layers import fully_connected, variance_scaling_initializer, batch_norm"
   ]
  },
  {
   "cell_type": "markdown",
   "metadata": {},
   "source": [
    "### Batch Normalization"
   ]
  },
  {
   "cell_type": "code",
   "execution_count": 15,
   "metadata": {},
   "outputs": [],
   "source": [
    "is_training = tf.placeholder(tf.bool, name='is_training')\n",
    "\n",
    "bn_params = {\n",
    "    'is_training': is_training,\n",
    "    'decay': 0.999,\n",
    "    'updates_collections': None,\n",
    "    'scale': True\n",
    "}"
   ]
  },
  {
   "cell_type": "code",
   "execution_count": 16,
   "metadata": {},
   "outputs": [],
   "source": [
    "def neuron_layer(X, n_neurons, name, activation=None):\n",
    "    # He initialization\n",
    "    he_init = variance_scaling_initializer()\n",
    "    layer = fully_connected(X, n_neurons, weights_initializer=he_init, \n",
    "                            normalizer_fn=batch_norm, normalizer_params=bn_params,\n",
    "                            activation_fn=activation, scope=name)\n",
    "    return layer"
   ]
  },
  {
   "cell_type": "markdown",
   "metadata": {},
   "source": [
    "### Neuron network"
   ]
  },
  {
   "cell_type": "code",
   "execution_count": 17,
   "metadata": {},
   "outputs": [],
   "source": [
    "with tf.name_scope('dnn'):\n",
    "    hidden1 = neuron_layer(X, n_hidden1, 'hidden1', activation=tf.nn.elu)\n",
    "    hidden2 = neuron_layer(hidden1, n_hidden2, 'hidden2', activation=tf.nn.elu)\n",
    "    hidden3 = neuron_layer(hidden2, n_hidden3, 'hidden3', activation=tf.nn.elu)\n",
    "    hidden4 = neuron_layer(hidden3, n_hidden4, 'hidden4', activation=tf.nn.elu)\n",
    "    hidden5 = neuron_layer(hidden4, n_hidden5, 'hidden5', activation=tf.nn.elu)\n",
    "    logits = neuron_layer(hidden5, n_outputs, 'logits')"
   ]
  },
  {
   "cell_type": "markdown",
   "metadata": {},
   "source": [
    "### Loss function "
   ]
  },
  {
   "cell_type": "code",
   "execution_count": 18,
   "metadata": {},
   "outputs": [],
   "source": [
    "with tf.name_scope('loss'):\n",
    "    xentropy = tf.nn.sparse_softmax_cross_entropy_with_logits(labels=y, logits=logits)\n",
    "    loss = tf.reduce_mean(xentropy, name='loss')"
   ]
  },
  {
   "cell_type": "markdown",
   "metadata": {},
   "source": [
    "### Optimization"
   ]
  },
  {
   "cell_type": "code",
   "execution_count": 19,
   "metadata": {},
   "outputs": [],
   "source": [
    "learning_rate = 0.01\n",
    "\n",
    "with tf.name_scope('train'):\n",
    "    optimizer = tf.train.AdamOptimizer(learning_rate)\n",
    "    training_op = optimizer.minimize(loss)"
   ]
  },
  {
   "cell_type": "markdown",
   "metadata": {},
   "source": [
    "### The Perfomance measure"
   ]
  },
  {
   "cell_type": "code",
   "execution_count": 20,
   "metadata": {},
   "outputs": [],
   "source": [
    "with tf.name_scope('eval'):\n",
    "    correct = tf.nn.in_top_k(logits, y, 1)\n",
    "    accuracy = tf.reduce_mean(tf.cast(correct, tf.float32))"
   ]
  },
  {
   "cell_type": "markdown",
   "metadata": {},
   "source": [
    "### Execution"
   ]
  },
  {
   "cell_type": "code",
   "execution_count": 21,
   "metadata": {},
   "outputs": [],
   "source": [
    "init = tf.global_variables_initializer()\n",
    "saver = tf.train.Saver()"
   ]
  },
  {
   "cell_type": "code",
   "execution_count": 22,
   "metadata": {},
   "outputs": [
    {
     "name": "stdout",
     "output_type": "stream",
     "text": [
      "WARNING:tensorflow:From <ipython-input-22-54368a95c440>:2: read_data_sets (from tensorflow.contrib.learn.python.learn.datasets.mnist) is deprecated and will be removed in a future version.\n",
      "Instructions for updating:\n",
      "Please use alternatives such as official/mnist/dataset.py from tensorflow/models.\n",
      "WARNING:tensorflow:From /anaconda3/lib/python3.6/site-packages/tensorflow/contrib/learn/python/learn/datasets/mnist.py:260: maybe_download (from tensorflow.contrib.learn.python.learn.datasets.base) is deprecated and will be removed in a future version.\n",
      "Instructions for updating:\n",
      "Please write your own downloading logic.\n",
      "WARNING:tensorflow:From /anaconda3/lib/python3.6/site-packages/tensorflow/contrib/learn/python/learn/datasets/mnist.py:262: extract_images (from tensorflow.contrib.learn.python.learn.datasets.mnist) is deprecated and will be removed in a future version.\n",
      "Instructions for updating:\n",
      "Please use tf.data to implement this functionality.\n",
      "Extracting /tmp/data/train-images-idx3-ubyte.gz\n",
      "WARNING:tensorflow:From /anaconda3/lib/python3.6/site-packages/tensorflow/contrib/learn/python/learn/datasets/mnist.py:267: extract_labels (from tensorflow.contrib.learn.python.learn.datasets.mnist) is deprecated and will be removed in a future version.\n",
      "Instructions for updating:\n",
      "Please use tf.data to implement this functionality.\n",
      "Extracting /tmp/data/train-labels-idx1-ubyte.gz\n",
      "Extracting /tmp/data/t10k-images-idx3-ubyte.gz\n",
      "Extracting /tmp/data/t10k-labels-idx1-ubyte.gz\n",
      "WARNING:tensorflow:From /anaconda3/lib/python3.6/site-packages/tensorflow/contrib/learn/python/learn/datasets/mnist.py:290: DataSet.__init__ (from tensorflow.contrib.learn.python.learn.datasets.mnist) is deprecated and will be removed in a future version.\n",
      "Instructions for updating:\n",
      "Please use alternatives such as official/mnist/dataset.py from tensorflow/models.\n"
     ]
    }
   ],
   "source": [
    "from tensorflow.examples.tutorials.mnist import input_data\n",
    "mnist = input_data.read_data_sets('/tmp/data/')"
   ]
  },
  {
   "cell_type": "code",
   "execution_count": 23,
   "metadata": {},
   "outputs": [],
   "source": [
    "X_train1 = mnist.train.images[mnist.train.labels < 5]\n",
    "y_train1 = mnist.train.labels[mnist.train.labels < 5]\n",
    "X_valid1 = mnist.validation.images[mnist.validation.labels < 5]\n",
    "y_valid1 = mnist.validation.labels[mnist.validation.labels < 5]\n",
    "X_test1 = mnist.test.images[mnist.test.labels < 5]\n",
    "y_test1 = mnist.test.labels[mnist.test.labels < 5]"
   ]
  },
  {
   "cell_type": "code",
   "execution_count": 32,
   "metadata": {},
   "outputs": [],
   "source": [
    "n_epochs = 50\n",
    "batch_size = 20"
   ]
  },
  {
   "cell_type": "code",
   "execution_count": 33,
   "metadata": {},
   "outputs": [
    {
     "name": "stdout",
     "output_type": "stream",
     "text": [
      "Epoch:  0 training accuracy:  1.0 validation accuracy:  0.9816263\n",
      "Epoch:  1 training accuracy:  1.0 validation accuracy:  0.97888976\n",
      "Epoch:  2 training accuracy:  0.9 validation accuracy:  0.96989834\n",
      "Epoch:  3 training accuracy:  0.9 validation accuracy:  0.98749024\n",
      "Epoch:  4 training accuracy:  1.0 validation accuracy:  0.9851446\n",
      "Epoch:  5 training accuracy:  1.0 validation accuracy:  0.9714621\n",
      "Epoch:  6 training accuracy:  1.0 validation accuracy:  0.9784988\n",
      "Epoch:  7 training accuracy:  1.0 validation accuracy:  0.9921814\n",
      "Epoch:  8 training accuracy:  1.0 validation accuracy:  0.9730258\n",
      "Epoch:  9 training accuracy:  1.0 validation accuracy:  0.99022675\n",
      "Epoch:  10 training accuracy:  1.0 validation accuracy:  0.98397183\n",
      "Epoch:  11 training accuracy:  1.0 validation accuracy:  0.98749024\n",
      "Epoch:  12 training accuracy:  1.0 validation accuracy:  0.99022675\n",
      "Epoch:  13 training accuracy:  1.0 validation accuracy:  0.9898358\n",
      "Epoch:  14 training accuracy:  1.0 validation accuracy:  0.98749024\n",
      "Epoch:  15 training accuracy:  1.0 validation accuracy:  0.9847537\n",
      "Epoch:  16 training accuracy:  1.0 validation accuracy:  0.9898358\n",
      "Epoch:  17 training accuracy:  1.0 validation accuracy:  0.98905396\n",
      "Epoch:  18 training accuracy:  0.95 validation accuracy:  0.9843628\n",
      "Epoch:  19 training accuracy:  1.0 validation accuracy:  0.9917905\n",
      "Epoch:  20 training accuracy:  1.0 validation accuracy:  0.99296325\n",
      "Epoch:  21 training accuracy:  1.0 validation accuracy:  0.9898358\n",
      "Epoch:  22 training accuracy:  1.0 validation accuracy:  0.9913995\n",
      "Epoch:  23 training accuracy:  1.0 validation accuracy:  0.977717\n",
      "Epoch:  24 training accuracy:  1.0 validation accuracy:  0.9921814\n",
      "Epoch:  25 training accuracy:  1.0 validation accuracy:  0.9937451\n",
      "Epoch:  26 training accuracy:  1.0 validation accuracy:  0.9921814\n",
      "Epoch:  27 training accuracy:  1.0 validation accuracy:  0.9898358\n",
      "Epoch:  28 training accuracy:  1.0 validation accuracy:  0.99413604\n",
      "Epoch:  29 training accuracy:  1.0 validation accuracy:  0.9906177\n",
      "Epoch:  30 training accuracy:  1.0 validation accuracy:  0.99022675\n",
      "Epoch:  31 training accuracy:  1.0 validation accuracy:  0.9925723\n",
      "Epoch:  32 training accuracy:  1.0 validation accuracy:  0.99022675\n",
      "Epoch:  33 training accuracy:  1.0 validation accuracy:  0.9933542\n",
      "Epoch:  34 training accuracy:  1.0 validation accuracy:  0.9898358\n",
      "Epoch:  35 training accuracy:  1.0 validation accuracy:  0.99413604\n",
      "Epoch:  36 training accuracy:  1.0 validation accuracy:  0.994527\n",
      "Epoch:  37 training accuracy:  1.0 validation accuracy:  0.99413604\n",
      "Epoch:  38 training accuracy:  1.0 validation accuracy:  0.9933542\n",
      "Epoch:  39 training accuracy:  1.0 validation accuracy:  0.9906177\n",
      "Epoch:  40 training accuracy:  1.0 validation accuracy:  0.9913995\n",
      "Epoch:  41 training accuracy:  1.0 validation accuracy:  0.99296325\n",
      "Epoch:  42 training accuracy:  1.0 validation accuracy:  0.9921814\n",
      "Epoch:  43 training accuracy:  1.0 validation accuracy:  0.9910086\n",
      "Epoch:  44 training accuracy:  1.0 validation accuracy:  0.9949179\n",
      "Epoch:  45 training accuracy:  1.0 validation accuracy:  0.9878812\n",
      "Epoch:  46 training accuracy:  1.0 validation accuracy:  0.9921814\n",
      "Epoch:  47 training accuracy:  1.0 validation accuracy:  0.99296325\n",
      "Epoch:  48 training accuracy:  1.0 validation accuracy:  0.98749024\n",
      "Epoch:  49 training accuracy:  1.0 validation accuracy:  0.9953088\n"
     ]
    }
   ],
   "source": [
    "with tf.Session() as sess:\n",
    "    sess.run(init)\n",
    "    \n",
    "    for epoch in range(n_epochs):\n",
    "        rnd_index = np.random.permutation(len(X_train1))\n",
    "        for rnd_indices in np.array_split(rnd_index, len(X_train1) // batch_size):\n",
    "            X_batch, y_batch = X_train1[rnd_indices], y_train1[rnd_indices]\n",
    "            sess.run(training_op, feed_dict={X: X_batch, y: y_batch, is_training: True})\n",
    "        acc_train = accuracy.eval(feed_dict={X: X_batch, y: y_batch, is_training: False})\n",
    "        acc_valid = accuracy.eval(feed_dict={X: X_valid1, y: y_valid1, is_training: False})\n",
    "        print('Epoch: ', epoch, 'training accuracy: ', acc_train, 'validation accuracy: ', acc_valid)\n",
    "        \n",
    "    save_path = saver.save(sess, '../models/chapt11_model1.ckpt')"
   ]
  },
  {
   "cell_type": "code",
   "execution_count": 37,
   "metadata": {},
   "outputs": [
    {
     "name": "stdout",
     "output_type": "stream",
     "text": [
      "INFO:tensorflow:Restoring parameters from ../models/chapt11_model1.ckpt\n"
     ]
    }
   ],
   "source": [
    "with tf.Session() as sess:\n",
    "    saver.restore(sess, '../models/chapt11_model1.ckpt')\n",
    "    \n",
    "    X_new = mnist.test.images[10:20]\n",
    "    Z = logits.eval(feed_dict={X: X_new, is_training: False})\n",
    "    y_pred = np.argmax(Z, axis=1)"
   ]
  },
  {
   "cell_type": "code",
   "execution_count": 38,
   "metadata": {},
   "outputs": [
    {
     "data": {
      "text/plain": [
       "array([0, 0, 4, 0, 1, 3, 4, 3, 3, 4])"
      ]
     },
     "execution_count": 38,
     "metadata": {},
     "output_type": "execute_result"
    }
   ],
   "source": [
    "y_pred"
   ]
  },
  {
   "cell_type": "code",
   "execution_count": 39,
   "metadata": {},
   "outputs": [
    {
     "data": {
      "text/plain": [
       "array([0, 6, 9, 0, 1, 5, 9, 7, 3, 4], dtype=uint8)"
      ]
     },
     "execution_count": 39,
     "metadata": {},
     "output_type": "execute_result"
    }
   ],
   "source": [
    "mnist.test.labels[10:20]"
   ]
  },
  {
   "cell_type": "code",
   "execution_count": null,
   "metadata": {},
   "outputs": [],
   "source": []
  }
 ],
 "metadata": {
  "kernelspec": {
   "display_name": "Python 3",
   "language": "python",
   "name": "python3"
  },
  "language_info": {
   "codemirror_mode": {
    "name": "ipython",
    "version": 3
   },
   "file_extension": ".py",
   "mimetype": "text/x-python",
   "name": "python",
   "nbconvert_exporter": "python",
   "pygments_lexer": "ipython3",
   "version": "3.6.4"
  }
 },
 "nbformat": 4,
 "nbformat_minor": 2
}
